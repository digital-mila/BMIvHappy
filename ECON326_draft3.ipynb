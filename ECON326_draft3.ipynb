{
 "cells": [
  {
   "cell_type": "code",
   "execution_count": 63,
   "id": "849e2e34",
   "metadata": {},
   "outputs": [
    {
     "name": "stderr",
     "output_type": "stream",
     "text": [
      "Updating HTML index of packages in '.Library'\n",
      "\n",
      "Making 'packages.html' ...\n",
      " done\n",
      "\n"
     ]
    }
   ],
   "source": [
    "library(tidyverse)\n",
    "library(haven)\n",
    "library(dplyr)\n",
    "\n",
    "install.packages(\"stargazer\")\n",
    "library(stargazer)"
   ]
  },
  {
   "cell_type": "code",
   "execution_count": 53,
   "id": "2dd2e0bd",
   "metadata": {
    "scrolled": false
   },
   "outputs": [
    {
     "data": {
      "text/html": [
       "<table class=\"dataframe\">\n",
       "<caption>A tibble: 6 × 7</caption>\n",
       "<thead>\n",
       "\t<tr><th scope=col>gender</th><th scope=col>age</th><th scope=col>happy_score</th><th scope=col>BMI</th><th scope=col>BMI_group</th><th scope=col>diabetes</th><th scope=col>fitness</th></tr>\n",
       "\t<tr><th scope=col>&lt;fct&gt;</th><th scope=col>&lt;dbl+lbl&gt;</th><th scope=col>&lt;dbl+lbl&gt;</th><th scope=col>&lt;dbl&gt;</th><th scope=col>&lt;fct&gt;</th><th scope=col>&lt;fct&gt;</th><th scope=col>&lt;chr&gt;</th></tr>\n",
       "</thead>\n",
       "<tbody>\n",
       "\t<tr><td>Female</td><td> 9</td><td>10</td><td>20</td><td>Normal weight</td><td>No</td><td>Low activity </td></tr>\n",
       "\t<tr><td>Female</td><td>10</td><td> 6</td><td>23</td><td>Normal weight</td><td>No</td><td>No activity  </td></tr>\n",
       "\t<tr><td>Female</td><td>14</td><td>10</td><td>29</td><td>Overweight   </td><td>No</td><td>High activity</td></tr>\n",
       "\t<tr><td>Female</td><td>12</td><td> 8</td><td>27</td><td>Overweight   </td><td>No</td><td>Low activity </td></tr>\n",
       "\t<tr><td>Male  </td><td> 7</td><td> 9</td><td>24</td><td>Normal weight</td><td>No</td><td>High activity</td></tr>\n",
       "\t<tr><td>Male  </td><td>11</td><td> 6</td><td>29</td><td>Overweight   </td><td>No</td><td>Low activity </td></tr>\n",
       "</tbody>\n",
       "</table>\n"
      ],
      "text/latex": [
       "A tibble: 6 × 7\n",
       "\\begin{tabular}{lllllll}\n",
       " gender & age & happy\\_score & BMI & BMI\\_group & diabetes & fitness\\\\\n",
       " <fct> & <dbl+lbl> & <dbl+lbl> & <dbl> & <fct> & <fct> & <chr>\\\\\n",
       "\\hline\n",
       "\t Female &  9 & 10 & 20 & Normal weight & No & Low activity \\\\\n",
       "\t Female & 10 &  6 & 23 & Normal weight & No & No activity  \\\\\n",
       "\t Female & 14 & 10 & 29 & Overweight    & No & High activity\\\\\n",
       "\t Female & 12 &  8 & 27 & Overweight    & No & Low activity \\\\\n",
       "\t Male   &  7 &  9 & 24 & Normal weight & No & High activity\\\\\n",
       "\t Male   & 11 &  6 & 29 & Overweight    & No & Low activity \\\\\n",
       "\\end{tabular}\n"
      ],
      "text/markdown": [
       "\n",
       "A tibble: 6 × 7\n",
       "\n",
       "| gender &lt;fct&gt; | age &lt;dbl+lbl&gt; | happy_score &lt;dbl+lbl&gt; | BMI &lt;dbl&gt; | BMI_group &lt;fct&gt; | diabetes &lt;fct&gt; | fitness &lt;chr&gt; |\n",
       "|---|---|---|---|---|---|---|\n",
       "| Female |  9 | 10 | 20 | Normal weight | No | Low activity  |\n",
       "| Female | 10 |  6 | 23 | Normal weight | No | No activity   |\n",
       "| Female | 14 | 10 | 29 | Overweight    | No | High activity |\n",
       "| Female | 12 |  8 | 27 | Overweight    | No | Low activity  |\n",
       "| Male   |  7 |  9 | 24 | Normal weight | No | High activity |\n",
       "| Male   | 11 |  6 | 29 | Overweight    | No | Low activity  |\n",
       "\n"
      ],
      "text/plain": [
       "  gender age happy_score BMI BMI_group     diabetes fitness      \n",
       "1 Female  9  10          20  Normal weight No       Low activity \n",
       "2 Female 10   6          23  Normal weight No       No activity  \n",
       "3 Female 14  10          29  Overweight    No       High activity\n",
       "4 Female 12   8          27  Overweight    No       Low activity \n",
       "5 Male    7   9          24  Normal weight No       High activity\n",
       "6 Male   11   6          29  Overweight    No       Low activity "
      ]
     },
     "metadata": {},
     "output_type": "display_data"
    }
   ],
   "source": [
    "cchs <- read_dta(\"CCHS_Annual_2017_2018_curated_trimmed_25%.dta\",\n",
    "                 encoding = NULL,\n",
    "                 c(hwtdgbmi,\n",
    "                   hwtdgisw,\n",
    "                   GEN_010,\n",
    "                   dhhgage,\n",
    "                   CCC_095,\n",
    "                   DHH_SEX,\n",
    "                   paadvacv),\n",
    "                 skip = 0,\n",
    "                 n_max = Inf,\n",
    "                 .name_repair = \"unique\") %>%\n",
    "        drop_na() %>% \n",
    "        filter(hwtdgbmi != 999.96&999.99  & hwtdgisw != 6&9 & GEN_010 != 97&98&99 & dhhgage != 01&02 & paadvacv != 6&9) %>%\n",
    "        rename(\"BMI\" = \"hwtdgbmi\",\n",
    "               \"BMI_group\" = \"hwtdgisw\",\n",
    "               \"happy_score\" = \"GEN_010\",\n",
    "               \"age\" = \"dhhgage\",\n",
    "               \"diabetes\" = \"CCC_095\",\n",
    "               \"gender\" = \"DHH_SEX\",\n",
    "               \"fitness\" = \"paadvacv\") %>%\n",
    "        mutate(BMI_group = as_factor(BMI_group), \n",
    "               diabetes = as_factor(diabetes), \n",
    "               BMI_group = as_factor(BMI_group),\n",
    "               gender = as_factor(gender),\n",
    "               fitness = as_factor(fitness)) %>% \n",
    "        mutate(fitness = case_when(\n",
    "            fitness == \"Physically active at / above recommended level from CPAG\" ~ \"High activity\",\n",
    "            fitness == \"Physically active below recommended level from CPAG\" ~ \"Low activity\",\n",
    "            fitness == \"No physical activity minutes reported\" ~ \"No activity\")) %>%\n",
    "        mutate(across(c('BMI'), round, 0))\n",
    "\n",
    "\n",
    "head(cchs)"
   ]
  },
  {
   "cell_type": "code",
   "execution_count": 4,
   "id": "8e06d733",
   "metadata": {},
   "outputs": [
    {
     "data": {
      "text/html": [
       "<table class=\"dataframe\">\n",
       "<caption>A tibble: 40 × 5</caption>\n",
       "<thead>\n",
       "\t<tr><th scope=col>BMI</th><th scope=col>Mean_happyscore</th><th scope=col>Min_happyscore</th><th scope=col>Max_happyscore</th><th scope=col>Sd_happyscore</th></tr>\n",
       "\t<tr><th scope=col>&lt;dbl&gt;</th><th scope=col>&lt;dbl&gt;</th><th scope=col>&lt;dbl+lbl&gt;</th><th scope=col>&lt;dbl+lbl&gt;</th><th scope=col>&lt;dbl&gt;</th></tr>\n",
       "</thead>\n",
       "<tbody>\n",
       "\t<tr><td>13</td><td> 9.000000</td><td> 9</td><td> 9</td><td>      NA</td></tr>\n",
       "\t<tr><td>15</td><td> 6.500000</td><td> 5</td><td> 8</td><td>1.290994</td></tr>\n",
       "\t<tr><td>16</td><td> 8.000000</td><td> 4</td><td>10</td><td>1.450953</td></tr>\n",
       "\t<tr><td>17</td><td> 7.878261</td><td> 0</td><td>10</td><td>1.660415</td></tr>\n",
       "\t<tr><td>18</td><td> 8.039344</td><td> 0</td><td>10</td><td>1.756124</td></tr>\n",
       "\t<tr><td>19</td><td> 8.070978</td><td> 0</td><td>10</td><td>1.629994</td></tr>\n",
       "\t<tr><td>20</td><td> 8.185824</td><td> 0</td><td>10</td><td>1.557449</td></tr>\n",
       "\t<tr><td>21</td><td> 8.190125</td><td> 0</td><td>10</td><td>1.605886</td></tr>\n",
       "\t<tr><td>22</td><td> 8.184726</td><td> 0</td><td>10</td><td>1.612476</td></tr>\n",
       "\t<tr><td>23</td><td> 8.153326</td><td> 0</td><td>10</td><td>1.592477</td></tr>\n",
       "\t<tr><td>24</td><td> 8.244875</td><td> 0</td><td>10</td><td>1.496812</td></tr>\n",
       "\t<tr><td>25</td><td> 8.256452</td><td> 0</td><td>10</td><td>1.471382</td></tr>\n",
       "\t<tr><td>26</td><td> 8.205729</td><td> 0</td><td>10</td><td>1.566375</td></tr>\n",
       "\t<tr><td>27</td><td> 8.121717</td><td> 0</td><td>10</td><td>1.604655</td></tr>\n",
       "\t<tr><td>28</td><td> 8.199068</td><td> 0</td><td>10</td><td>1.565254</td></tr>\n",
       "\t<tr><td>29</td><td> 8.128782</td><td> 0</td><td>10</td><td>1.535962</td></tr>\n",
       "\t<tr><td>30</td><td> 8.069054</td><td> 0</td><td>10</td><td>1.608798</td></tr>\n",
       "\t<tr><td>31</td><td> 8.058263</td><td> 0</td><td>10</td><td>1.725547</td></tr>\n",
       "\t<tr><td>32</td><td> 7.941019</td><td> 0</td><td>10</td><td>1.625057</td></tr>\n",
       "\t<tr><td>33</td><td> 7.793388</td><td> 0</td><td>10</td><td>1.792725</td></tr>\n",
       "\t<tr><td>34</td><td> 8.011834</td><td> 0</td><td>10</td><td>1.616325</td></tr>\n",
       "\t<tr><td>35</td><td> 7.997455</td><td> 0</td><td>10</td><td>1.735727</td></tr>\n",
       "\t<tr><td>36</td><td> 7.872483</td><td> 0</td><td>10</td><td>1.706745</td></tr>\n",
       "\t<tr><td>37</td><td> 7.765568</td><td> 0</td><td>10</td><td>1.826074</td></tr>\n",
       "\t<tr><td>38</td><td> 7.628440</td><td> 1</td><td>10</td><td>1.822673</td></tr>\n",
       "\t<tr><td>39</td><td> 7.775281</td><td> 0</td><td>10</td><td>1.947055</td></tr>\n",
       "\t<tr><td>40</td><td> 7.121429</td><td> 0</td><td>10</td><td>2.026685</td></tr>\n",
       "\t<tr><td>41</td><td> 7.299065</td><td> 0</td><td>10</td><td>2.236975</td></tr>\n",
       "\t<tr><td>42</td><td> 7.423077</td><td> 1</td><td>10</td><td>1.848265</td></tr>\n",
       "\t<tr><td>43</td><td> 7.220339</td><td> 0</td><td>10</td><td>2.026274</td></tr>\n",
       "\t<tr><td>44</td><td> 6.823529</td><td> 0</td><td>10</td><td>2.249183</td></tr>\n",
       "\t<tr><td>45</td><td> 6.900000</td><td> 0</td><td>10</td><td>2.591099</td></tr>\n",
       "\t<tr><td>46</td><td> 7.375000</td><td> 0</td><td>10</td><td>2.550575</td></tr>\n",
       "\t<tr><td>47</td><td> 7.176471</td><td> 2</td><td>10</td><td>2.038237</td></tr>\n",
       "\t<tr><td>48</td><td> 6.666667</td><td> 2</td><td>10</td><td>2.804758</td></tr>\n",
       "\t<tr><td>49</td><td> 7.750000</td><td> 5</td><td>10</td><td>2.061553</td></tr>\n",
       "\t<tr><td>50</td><td> 8.000000</td><td> 8</td><td> 8</td><td>0.000000</td></tr>\n",
       "\t<tr><td>51</td><td> 7.000000</td><td> 7</td><td> 7</td><td>      NA</td></tr>\n",
       "\t<tr><td>52</td><td>10.000000</td><td>10</td><td>10</td><td>      NA</td></tr>\n",
       "\t<tr><td>54</td><td> 8.500000</td><td> 7</td><td>10</td><td>2.121320</td></tr>\n",
       "</tbody>\n",
       "</table>\n"
      ],
      "text/latex": [
       "A tibble: 40 × 5\n",
       "\\begin{tabular}{lllll}\n",
       " BMI & Mean\\_happyscore & Min\\_happyscore & Max\\_happyscore & Sd\\_happyscore\\\\\n",
       " <dbl> & <dbl> & <dbl+lbl> & <dbl+lbl> & <dbl>\\\\\n",
       "\\hline\n",
       "\t 13 &  9.000000 &  9 &  9 &       NA\\\\\n",
       "\t 15 &  6.500000 &  5 &  8 & 1.290994\\\\\n",
       "\t 16 &  8.000000 &  4 & 10 & 1.450953\\\\\n",
       "\t 17 &  7.878261 &  0 & 10 & 1.660415\\\\\n",
       "\t 18 &  8.039344 &  0 & 10 & 1.756124\\\\\n",
       "\t 19 &  8.070978 &  0 & 10 & 1.629994\\\\\n",
       "\t 20 &  8.185824 &  0 & 10 & 1.557449\\\\\n",
       "\t 21 &  8.190125 &  0 & 10 & 1.605886\\\\\n",
       "\t 22 &  8.184726 &  0 & 10 & 1.612476\\\\\n",
       "\t 23 &  8.153326 &  0 & 10 & 1.592477\\\\\n",
       "\t 24 &  8.244875 &  0 & 10 & 1.496812\\\\\n",
       "\t 25 &  8.256452 &  0 & 10 & 1.471382\\\\\n",
       "\t 26 &  8.205729 &  0 & 10 & 1.566375\\\\\n",
       "\t 27 &  8.121717 &  0 & 10 & 1.604655\\\\\n",
       "\t 28 &  8.199068 &  0 & 10 & 1.565254\\\\\n",
       "\t 29 &  8.128782 &  0 & 10 & 1.535962\\\\\n",
       "\t 30 &  8.069054 &  0 & 10 & 1.608798\\\\\n",
       "\t 31 &  8.058263 &  0 & 10 & 1.725547\\\\\n",
       "\t 32 &  7.941019 &  0 & 10 & 1.625057\\\\\n",
       "\t 33 &  7.793388 &  0 & 10 & 1.792725\\\\\n",
       "\t 34 &  8.011834 &  0 & 10 & 1.616325\\\\\n",
       "\t 35 &  7.997455 &  0 & 10 & 1.735727\\\\\n",
       "\t 36 &  7.872483 &  0 & 10 & 1.706745\\\\\n",
       "\t 37 &  7.765568 &  0 & 10 & 1.826074\\\\\n",
       "\t 38 &  7.628440 &  1 & 10 & 1.822673\\\\\n",
       "\t 39 &  7.775281 &  0 & 10 & 1.947055\\\\\n",
       "\t 40 &  7.121429 &  0 & 10 & 2.026685\\\\\n",
       "\t 41 &  7.299065 &  0 & 10 & 2.236975\\\\\n",
       "\t 42 &  7.423077 &  1 & 10 & 1.848265\\\\\n",
       "\t 43 &  7.220339 &  0 & 10 & 2.026274\\\\\n",
       "\t 44 &  6.823529 &  0 & 10 & 2.249183\\\\\n",
       "\t 45 &  6.900000 &  0 & 10 & 2.591099\\\\\n",
       "\t 46 &  7.375000 &  0 & 10 & 2.550575\\\\\n",
       "\t 47 &  7.176471 &  2 & 10 & 2.038237\\\\\n",
       "\t 48 &  6.666667 &  2 & 10 & 2.804758\\\\\n",
       "\t 49 &  7.750000 &  5 & 10 & 2.061553\\\\\n",
       "\t 50 &  8.000000 &  8 &  8 & 0.000000\\\\\n",
       "\t 51 &  7.000000 &  7 &  7 &       NA\\\\\n",
       "\t 52 & 10.000000 & 10 & 10 &       NA\\\\\n",
       "\t 54 &  8.500000 &  7 & 10 & 2.121320\\\\\n",
       "\\end{tabular}\n"
      ],
      "text/markdown": [
       "\n",
       "A tibble: 40 × 5\n",
       "\n",
       "| BMI &lt;dbl&gt; | Mean_happyscore &lt;dbl&gt; | Min_happyscore &lt;dbl+lbl&gt; | Max_happyscore &lt;dbl+lbl&gt; | Sd_happyscore &lt;dbl&gt; |\n",
       "|---|---|---|---|---|\n",
       "| 13 |  9.000000 |  9 |  9 |       NA |\n",
       "| 15 |  6.500000 |  5 |  8 | 1.290994 |\n",
       "| 16 |  8.000000 |  4 | 10 | 1.450953 |\n",
       "| 17 |  7.878261 |  0 | 10 | 1.660415 |\n",
       "| 18 |  8.039344 |  0 | 10 | 1.756124 |\n",
       "| 19 |  8.070978 |  0 | 10 | 1.629994 |\n",
       "| 20 |  8.185824 |  0 | 10 | 1.557449 |\n",
       "| 21 |  8.190125 |  0 | 10 | 1.605886 |\n",
       "| 22 |  8.184726 |  0 | 10 | 1.612476 |\n",
       "| 23 |  8.153326 |  0 | 10 | 1.592477 |\n",
       "| 24 |  8.244875 |  0 | 10 | 1.496812 |\n",
       "| 25 |  8.256452 |  0 | 10 | 1.471382 |\n",
       "| 26 |  8.205729 |  0 | 10 | 1.566375 |\n",
       "| 27 |  8.121717 |  0 | 10 | 1.604655 |\n",
       "| 28 |  8.199068 |  0 | 10 | 1.565254 |\n",
       "| 29 |  8.128782 |  0 | 10 | 1.535962 |\n",
       "| 30 |  8.069054 |  0 | 10 | 1.608798 |\n",
       "| 31 |  8.058263 |  0 | 10 | 1.725547 |\n",
       "| 32 |  7.941019 |  0 | 10 | 1.625057 |\n",
       "| 33 |  7.793388 |  0 | 10 | 1.792725 |\n",
       "| 34 |  8.011834 |  0 | 10 | 1.616325 |\n",
       "| 35 |  7.997455 |  0 | 10 | 1.735727 |\n",
       "| 36 |  7.872483 |  0 | 10 | 1.706745 |\n",
       "| 37 |  7.765568 |  0 | 10 | 1.826074 |\n",
       "| 38 |  7.628440 |  1 | 10 | 1.822673 |\n",
       "| 39 |  7.775281 |  0 | 10 | 1.947055 |\n",
       "| 40 |  7.121429 |  0 | 10 | 2.026685 |\n",
       "| 41 |  7.299065 |  0 | 10 | 2.236975 |\n",
       "| 42 |  7.423077 |  1 | 10 | 1.848265 |\n",
       "| 43 |  7.220339 |  0 | 10 | 2.026274 |\n",
       "| 44 |  6.823529 |  0 | 10 | 2.249183 |\n",
       "| 45 |  6.900000 |  0 | 10 | 2.591099 |\n",
       "| 46 |  7.375000 |  0 | 10 | 2.550575 |\n",
       "| 47 |  7.176471 |  2 | 10 | 2.038237 |\n",
       "| 48 |  6.666667 |  2 | 10 | 2.804758 |\n",
       "| 49 |  7.750000 |  5 | 10 | 2.061553 |\n",
       "| 50 |  8.000000 |  8 |  8 | 0.000000 |\n",
       "| 51 |  7.000000 |  7 |  7 |       NA |\n",
       "| 52 | 10.000000 | 10 | 10 |       NA |\n",
       "| 54 |  8.500000 |  7 | 10 | 2.121320 |\n",
       "\n"
      ],
      "text/plain": [
       "   BMI Mean_happyscore Min_happyscore Max_happyscore Sd_happyscore\n",
       "1  13   9.000000        9              9                   NA     \n",
       "2  15   6.500000        5              8             1.290994     \n",
       "3  16   8.000000        4             10             1.450953     \n",
       "4  17   7.878261        0             10             1.660415     \n",
       "5  18   8.039344        0             10             1.756124     \n",
       "6  19   8.070978        0             10             1.629994     \n",
       "7  20   8.185824        0             10             1.557449     \n",
       "8  21   8.190125        0             10             1.605886     \n",
       "9  22   8.184726        0             10             1.612476     \n",
       "10 23   8.153326        0             10             1.592477     \n",
       "11 24   8.244875        0             10             1.496812     \n",
       "12 25   8.256452        0             10             1.471382     \n",
       "13 26   8.205729        0             10             1.566375     \n",
       "14 27   8.121717        0             10             1.604655     \n",
       "15 28   8.199068        0             10             1.565254     \n",
       "16 29   8.128782        0             10             1.535962     \n",
       "17 30   8.069054        0             10             1.608798     \n",
       "18 31   8.058263        0             10             1.725547     \n",
       "19 32   7.941019        0             10             1.625057     \n",
       "20 33   7.793388        0             10             1.792725     \n",
       "21 34   8.011834        0             10             1.616325     \n",
       "22 35   7.997455        0             10             1.735727     \n",
       "23 36   7.872483        0             10             1.706745     \n",
       "24 37   7.765568        0             10             1.826074     \n",
       "25 38   7.628440        1             10             1.822673     \n",
       "26 39   7.775281        0             10             1.947055     \n",
       "27 40   7.121429        0             10             2.026685     \n",
       "28 41   7.299065        0             10             2.236975     \n",
       "29 42   7.423077        1             10             1.848265     \n",
       "30 43   7.220339        0             10             2.026274     \n",
       "31 44   6.823529        0             10             2.249183     \n",
       "32 45   6.900000        0             10             2.591099     \n",
       "33 46   7.375000        0             10             2.550575     \n",
       "34 47   7.176471        2             10             2.038237     \n",
       "35 48   6.666667        2             10             2.804758     \n",
       "36 49   7.750000        5             10             2.061553     \n",
       "37 50   8.000000        8              8             0.000000     \n",
       "38 51   7.000000        7              7                   NA     \n",
       "39 52  10.000000       10             10                   NA     \n",
       "40 54   8.500000        7             10             2.121320     "
      ]
     },
     "metadata": {},
     "output_type": "display_data"
    }
   ],
   "source": [
    "summary1 <- select(cchs, happy_score, BMI) %>%\n",
    "            group_by(BMI) %>% \n",
    "            summarise(Mean_happyscore = mean(happy_score), \n",
    "                      Min_happyscore = min(happy_score),\n",
    "                      Max_happyscore = max(happy_score), \n",
    "                      Sd_happyscore = sd(happy_score)) %>%\n",
    "            ungroup()\n",
    "\n",
    "summary1"
   ]
  },
  {
   "cell_type": "code",
   "execution_count": 5,
   "id": "24c2bb41",
   "metadata": {},
   "outputs": [
    {
     "name": "stderr",
     "output_type": "stream",
     "text": [
      "Don't know how to automatically pick scale for object of type haven_labelled/vctrs_vctr/double. Defaulting to continuous.\n",
      "\n",
      "`geom_smooth()` using formula 'y ~ x'\n",
      "\n"
     ]
    },
    {
     "data": {
      "image/png": "[encoded data removed]",
      "text/plain": [
       "plot without title"
      ]
     },
     "metadata": {
      "image/png": {
       "height": 420,
       "width": 420
      }
     },
     "output_type": "display_data"
    }
   ],
   "source": [
    "plot <- ggplot(cchs, aes(x = BMI, y = happy_score, color = diabetes)) +\n",
    "  geom_point(alpha = 0.4) +\n",
    "  xlab(\"Body mass index (self-reported)\") +\n",
    "  ylab(\"Satisfaction with life in general scale 1-10\") +\n",
    "  geom_smooth(method = \"lm\", se = FALSE) +\n",
    "  facet_wrap(~ diabetes) + \n",
    "  theme(text = element_text(size = 12))\n",
    "\n",
    "plot"
   ]
  },
  {
   "cell_type": "code",
   "execution_count": 6,
   "id": "9ca28169",
   "metadata": {},
   "outputs": [
    {
     "data": {
      "text/html": [
       "<table class=\"dataframe\">\n",
       "<caption>A tibble: 40 × 5</caption>\n",
       "<thead>\n",
       "\t<tr><th scope=col>BMI</th><th scope=col>Mean_happyscore</th><th scope=col>Min_happyscore</th><th scope=col>Max_happyscore</th><th scope=col>Sd_happyscore</th></tr>\n",
       "\t<tr><th scope=col>&lt;dbl&gt;</th><th scope=col>&lt;dbl&gt;</th><th scope=col>&lt;dbl+lbl&gt;</th><th scope=col>&lt;dbl+lbl&gt;</th><th scope=col>&lt;dbl&gt;</th></tr>\n",
       "</thead>\n",
       "<tbody>\n",
       "\t<tr><td>13</td><td> 9.000000</td><td> 9</td><td> 9</td><td>      NA</td></tr>\n",
       "\t<tr><td>15</td><td> 6.500000</td><td> 5</td><td> 8</td><td>1.290994</td></tr>\n",
       "\t<tr><td>16</td><td> 8.000000</td><td> 4</td><td>10</td><td>1.450953</td></tr>\n",
       "\t<tr><td>17</td><td> 7.878261</td><td> 0</td><td>10</td><td>1.660415</td></tr>\n",
       "\t<tr><td>18</td><td> 8.039344</td><td> 0</td><td>10</td><td>1.756124</td></tr>\n",
       "\t<tr><td>19</td><td> 8.070978</td><td> 0</td><td>10</td><td>1.629994</td></tr>\n",
       "\t<tr><td>20</td><td> 8.185824</td><td> 0</td><td>10</td><td>1.557449</td></tr>\n",
       "\t<tr><td>21</td><td> 8.190125</td><td> 0</td><td>10</td><td>1.605886</td></tr>\n",
       "\t<tr><td>22</td><td> 8.184726</td><td> 0</td><td>10</td><td>1.612476</td></tr>\n",
       "\t<tr><td>23</td><td> 8.153326</td><td> 0</td><td>10</td><td>1.592477</td></tr>\n",
       "\t<tr><td>24</td><td> 8.244875</td><td> 0</td><td>10</td><td>1.496812</td></tr>\n",
       "\t<tr><td>25</td><td> 8.256452</td><td> 0</td><td>10</td><td>1.471382</td></tr>\n",
       "\t<tr><td>26</td><td> 8.205729</td><td> 0</td><td>10</td><td>1.566375</td></tr>\n",
       "\t<tr><td>27</td><td> 8.121717</td><td> 0</td><td>10</td><td>1.604655</td></tr>\n",
       "\t<tr><td>28</td><td> 8.199068</td><td> 0</td><td>10</td><td>1.565254</td></tr>\n",
       "\t<tr><td>29</td><td> 8.128782</td><td> 0</td><td>10</td><td>1.535962</td></tr>\n",
       "\t<tr><td>30</td><td> 8.069054</td><td> 0</td><td>10</td><td>1.608798</td></tr>\n",
       "\t<tr><td>31</td><td> 8.058263</td><td> 0</td><td>10</td><td>1.725547</td></tr>\n",
       "\t<tr><td>32</td><td> 7.941019</td><td> 0</td><td>10</td><td>1.625057</td></tr>\n",
       "\t<tr><td>33</td><td> 7.793388</td><td> 0</td><td>10</td><td>1.792725</td></tr>\n",
       "\t<tr><td>34</td><td> 8.011834</td><td> 0</td><td>10</td><td>1.616325</td></tr>\n",
       "\t<tr><td>35</td><td> 7.997455</td><td> 0</td><td>10</td><td>1.735727</td></tr>\n",
       "\t<tr><td>36</td><td> 7.872483</td><td> 0</td><td>10</td><td>1.706745</td></tr>\n",
       "\t<tr><td>37</td><td> 7.765568</td><td> 0</td><td>10</td><td>1.826074</td></tr>\n",
       "\t<tr><td>38</td><td> 7.628440</td><td> 1</td><td>10</td><td>1.822673</td></tr>\n",
       "\t<tr><td>39</td><td> 7.775281</td><td> 0</td><td>10</td><td>1.947055</td></tr>\n",
       "\t<tr><td>40</td><td> 7.121429</td><td> 0</td><td>10</td><td>2.026685</td></tr>\n",
       "\t<tr><td>41</td><td> 7.299065</td><td> 0</td><td>10</td><td>2.236975</td></tr>\n",
       "\t<tr><td>42</td><td> 7.423077</td><td> 1</td><td>10</td><td>1.848265</td></tr>\n",
       "\t<tr><td>43</td><td> 7.220339</td><td> 0</td><td>10</td><td>2.026274</td></tr>\n",
       "\t<tr><td>44</td><td> 6.823529</td><td> 0</td><td>10</td><td>2.249183</td></tr>\n",
       "\t<tr><td>45</td><td> 6.900000</td><td> 0</td><td>10</td><td>2.591099</td></tr>\n",
       "\t<tr><td>46</td><td> 7.375000</td><td> 0</td><td>10</td><td>2.550575</td></tr>\n",
       "\t<tr><td>47</td><td> 7.176471</td><td> 2</td><td>10</td><td>2.038237</td></tr>\n",
       "\t<tr><td>48</td><td> 6.666667</td><td> 2</td><td>10</td><td>2.804758</td></tr>\n",
       "\t<tr><td>49</td><td> 7.750000</td><td> 5</td><td>10</td><td>2.061553</td></tr>\n",
       "\t<tr><td>50</td><td> 8.000000</td><td> 8</td><td> 8</td><td>0.000000</td></tr>\n",
       "\t<tr><td>51</td><td> 7.000000</td><td> 7</td><td> 7</td><td>      NA</td></tr>\n",
       "\t<tr><td>52</td><td>10.000000</td><td>10</td><td>10</td><td>      NA</td></tr>\n",
       "\t<tr><td>54</td><td> 8.500000</td><td> 7</td><td>10</td><td>2.121320</td></tr>\n",
       "</tbody>\n",
       "</table>\n"
      ],
      "text/latex": [
       "A tibble: 40 × 5\n",
       "\\begin{tabular}{lllll}\n",
       " BMI & Mean\\_happyscore & Min\\_happyscore & Max\\_happyscore & Sd\\_happyscore\\\\\n",
       " <dbl> & <dbl> & <dbl+lbl> & <dbl+lbl> & <dbl>\\\\\n",
       "\\hline\n",
       "\t 13 &  9.000000 &  9 &  9 &       NA\\\\\n",
       "\t 15 &  6.500000 &  5 &  8 & 1.290994\\\\\n",
       "\t 16 &  8.000000 &  4 & 10 & 1.450953\\\\\n",
       "\t 17 &  7.878261 &  0 & 10 & 1.660415\\\\\n",
       "\t 18 &  8.039344 &  0 & 10 & 1.756124\\\\\n",
       "\t 19 &  8.070978 &  0 & 10 & 1.629994\\\\\n",
       "\t 20 &  8.185824 &  0 & 10 & 1.557449\\\\\n",
       "\t 21 &  8.190125 &  0 & 10 & 1.605886\\\\\n",
       "\t 22 &  8.184726 &  0 & 10 & 1.612476\\\\\n",
       "\t 23 &  8.153326 &  0 & 10 & 1.592477\\\\\n",
       "\t 24 &  8.244875 &  0 & 10 & 1.496812\\\\\n",
       "\t 25 &  8.256452 &  0 & 10 & 1.471382\\\\\n",
       "\t 26 &  8.205729 &  0 & 10 & 1.566375\\\\\n",
       "\t 27 &  8.121717 &  0 & 10 & 1.604655\\\\\n",
       "\t 28 &  8.199068 &  0 & 10 & 1.565254\\\\\n",
       "\t 29 &  8.128782 &  0 & 10 & 1.535962\\\\\n",
       "\t 30 &  8.069054 &  0 & 10 & 1.608798\\\\\n",
       "\t 31 &  8.058263 &  0 & 10 & 1.725547\\\\\n",
       "\t 32 &  7.941019 &  0 & 10 & 1.625057\\\\\n",
       "\t 33 &  7.793388 &  0 & 10 & 1.792725\\\\\n",
       "\t 34 &  8.011834 &  0 & 10 & 1.616325\\\\\n",
       "\t 35 &  7.997455 &  0 & 10 & 1.735727\\\\\n",
       "\t 36 &  7.872483 &  0 & 10 & 1.706745\\\\\n",
       "\t 37 &  7.765568 &  0 & 10 & 1.826074\\\\\n",
       "\t 38 &  7.628440 &  1 & 10 & 1.822673\\\\\n",
       "\t 39 &  7.775281 &  0 & 10 & 1.947055\\\\\n",
       "\t 40 &  7.121429 &  0 & 10 & 2.026685\\\\\n",
       "\t 41 &  7.299065 &  0 & 10 & 2.236975\\\\\n",
       "\t 42 &  7.423077 &  1 & 10 & 1.848265\\\\\n",
       "\t 43 &  7.220339 &  0 & 10 & 2.026274\\\\\n",
       "\t 44 &  6.823529 &  0 & 10 & 2.249183\\\\\n",
       "\t 45 &  6.900000 &  0 & 10 & 2.591099\\\\\n",
       "\t 46 &  7.375000 &  0 & 10 & 2.550575\\\\\n",
       "\t 47 &  7.176471 &  2 & 10 & 2.038237\\\\\n",
       "\t 48 &  6.666667 &  2 & 10 & 2.804758\\\\\n",
       "\t 49 &  7.750000 &  5 & 10 & 2.061553\\\\\n",
       "\t 50 &  8.000000 &  8 &  8 & 0.000000\\\\\n",
       "\t 51 &  7.000000 &  7 &  7 &       NA\\\\\n",
       "\t 52 & 10.000000 & 10 & 10 &       NA\\\\\n",
       "\t 54 &  8.500000 &  7 & 10 & 2.121320\\\\\n",
       "\\end{tabular}\n"
      ],
      "text/markdown": [
       "\n",
       "A tibble: 40 × 5\n",
       "\n",
       "| BMI &lt;dbl&gt; | Mean_happyscore &lt;dbl&gt; | Min_happyscore &lt;dbl+lbl&gt; | Max_happyscore &lt;dbl+lbl&gt; | Sd_happyscore &lt;dbl&gt; |\n",
       "|---|---|---|---|---|\n",
       "| 13 |  9.000000 |  9 |  9 |       NA |\n",
       "| 15 |  6.500000 |  5 |  8 | 1.290994 |\n",
       "| 16 |  8.000000 |  4 | 10 | 1.450953 |\n",
       "| 17 |  7.878261 |  0 | 10 | 1.660415 |\n",
       "| 18 |  8.039344 |  0 | 10 | 1.756124 |\n",
       "| 19 |  8.070978 |  0 | 10 | 1.629994 |\n",
       "| 20 |  8.185824 |  0 | 10 | 1.557449 |\n",
       "| 21 |  8.190125 |  0 | 10 | 1.605886 |\n",
       "| 22 |  8.184726 |  0 | 10 | 1.612476 |\n",
       "| 23 |  8.153326 |  0 | 10 | 1.592477 |\n",
       "| 24 |  8.244875 |  0 | 10 | 1.496812 |\n",
       "| 25 |  8.256452 |  0 | 10 | 1.471382 |\n",
       "| 26 |  8.205729 |  0 | 10 | 1.566375 |\n",
       "| 27 |  8.121717 |  0 | 10 | 1.604655 |\n",
       "| 28 |  8.199068 |  0 | 10 | 1.565254 |\n",
       "| 29 |  8.128782 |  0 | 10 | 1.535962 |\n",
       "| 30 |  8.069054 |  0 | 10 | 1.608798 |\n",
       "| 31 |  8.058263 |  0 | 10 | 1.725547 |\n",
       "| 32 |  7.941019 |  0 | 10 | 1.625057 |\n",
       "| 33 |  7.793388 |  0 | 10 | 1.792725 |\n",
       "| 34 |  8.011834 |  0 | 10 | 1.616325 |\n",
       "| 35 |  7.997455 |  0 | 10 | 1.735727 |\n",
       "| 36 |  7.872483 |  0 | 10 | 1.706745 |\n",
       "| 37 |  7.765568 |  0 | 10 | 1.826074 |\n",
       "| 38 |  7.628440 |  1 | 10 | 1.822673 |\n",
       "| 39 |  7.775281 |  0 | 10 | 1.947055 |\n",
       "| 40 |  7.121429 |  0 | 10 | 2.026685 |\n",
       "| 41 |  7.299065 |  0 | 10 | 2.236975 |\n",
       "| 42 |  7.423077 |  1 | 10 | 1.848265 |\n",
       "| 43 |  7.220339 |  0 | 10 | 2.026274 |\n",
       "| 44 |  6.823529 |  0 | 10 | 2.249183 |\n",
       "| 45 |  6.900000 |  0 | 10 | 2.591099 |\n",
       "| 46 |  7.375000 |  0 | 10 | 2.550575 |\n",
       "| 47 |  7.176471 |  2 | 10 | 2.038237 |\n",
       "| 48 |  6.666667 |  2 | 10 | 2.804758 |\n",
       "| 49 |  7.750000 |  5 | 10 | 2.061553 |\n",
       "| 50 |  8.000000 |  8 |  8 | 0.000000 |\n",
       "| 51 |  7.000000 |  7 |  7 |       NA |\n",
       "| 52 | 10.000000 | 10 | 10 |       NA |\n",
       "| 54 |  8.500000 |  7 | 10 | 2.121320 |\n",
       "\n"
      ],
      "text/plain": [
       "   BMI Mean_happyscore Min_happyscore Max_happyscore Sd_happyscore\n",
       "1  13   9.000000        9              9                   NA     \n",
       "2  15   6.500000        5              8             1.290994     \n",
       "3  16   8.000000        4             10             1.450953     \n",
       "4  17   7.878261        0             10             1.660415     \n",
       "5  18   8.039344        0             10             1.756124     \n",
       "6  19   8.070978        0             10             1.629994     \n",
       "7  20   8.185824        0             10             1.557449     \n",
       "8  21   8.190125        0             10             1.605886     \n",
       "9  22   8.184726        0             10             1.612476     \n",
       "10 23   8.153326        0             10             1.592477     \n",
       "11 24   8.244875        0             10             1.496812     \n",
       "12 25   8.256452        0             10             1.471382     \n",
       "13 26   8.205729        0             10             1.566375     \n",
       "14 27   8.121717        0             10             1.604655     \n",
       "15 28   8.199068        0             10             1.565254     \n",
       "16 29   8.128782        0             10             1.535962     \n",
       "17 30   8.069054        0             10             1.608798     \n",
       "18 31   8.058263        0             10             1.725547     \n",
       "19 32   7.941019        0             10             1.625057     \n",
       "20 33   7.793388        0             10             1.792725     \n",
       "21 34   8.011834        0             10             1.616325     \n",
       "22 35   7.997455        0             10             1.735727     \n",
       "23 36   7.872483        0             10             1.706745     \n",
       "24 37   7.765568        0             10             1.826074     \n",
       "25 38   7.628440        1             10             1.822673     \n",
       "26 39   7.775281        0             10             1.947055     \n",
       "27 40   7.121429        0             10             2.026685     \n",
       "28 41   7.299065        0             10             2.236975     \n",
       "29 42   7.423077        1             10             1.848265     \n",
       "30 43   7.220339        0             10             2.026274     \n",
       "31 44   6.823529        0             10             2.249183     \n",
       "32 45   6.900000        0             10             2.591099     \n",
       "33 46   7.375000        0             10             2.550575     \n",
       "34 47   7.176471        2             10             2.038237     \n",
       "35 48   6.666667        2             10             2.804758     \n",
       "36 49   7.750000        5             10             2.061553     \n",
       "37 50   8.000000        8              8             0.000000     \n",
       "38 51   7.000000        7              7                   NA     \n",
       "39 52  10.000000       10             10                   NA     \n",
       "40 54   8.500000        7             10             2.121320     "
      ]
     },
     "metadata": {},
     "output_type": "display_data"
    }
   ],
   "source": [
    "summary1 <- select(cchs, happy_score, BMI) %>%\n",
    "            group_by(BMI) %>% \n",
    "            summarise(Mean_happyscore = mean(happy_score), \n",
    "                      Min_happyscore = min(happy_score),\n",
    "                      Max_happyscore = max(happy_score), \n",
    "                      Sd_happyscore = sd(happy_score)) %>%\n",
    "            ungroup()\n",
    "\n",
    "summary1"
   ]
  },
  {
   "cell_type": "code",
   "execution_count": 145,
   "id": "75ed515c",
   "metadata": {
    "scrolled": true
   },
   "outputs": [
    {
     "data": {
      "text/html": [
       "0.00489460112711615"
      ],
      "text/latex": [
       "0.00489460112711615"
      ],
      "text/markdown": [
       "0.00489460112711615"
      ],
      "text/plain": [
       "[1] 0.004894601"
      ]
     },
     "metadata": {},
     "output_type": "display_data"
    },
    {
     "data": {
      "text/html": [
       "0.0212813945033765"
      ],
      "text/latex": [
       "0.0212813945033765"
      ],
      "text/markdown": [
       "0.0212813945033765"
      ],
      "text/plain": [
       "[1] 0.02128139"
      ]
     },
     "metadata": {},
     "output_type": "display_data"
    },
    {
     "data": {
      "text/html": [
       "0.021268596839939"
      ],
      "text/latex": [
       "0.021268596839939"
      ],
      "text/markdown": [
       "0.021268596839939"
      ],
      "text/plain": [
       "[1] 0.0212686"
      ]
     },
     "metadata": {},
     "output_type": "display_data"
    },
    {
     "data": {
      "text/html": [
       "<table class=\"dataframe\">\n",
       "<caption>A anova: 2 × 6</caption>\n",
       "<thead>\n",
       "\t<tr><th></th><th scope=col>Res.Df</th><th scope=col>RSS</th><th scope=col>Df</th><th scope=col>Sum of Sq</th><th scope=col>F</th><th scope=col>Pr(&gt;F)</th></tr>\n",
       "\t<tr><th></th><th scope=col>&lt;dbl&gt;</th><th scope=col>&lt;dbl&gt;</th><th scope=col>&lt;dbl&gt;</th><th scope=col>&lt;dbl&gt;</th><th scope=col>&lt;dbl&gt;</th><th scope=col>&lt;dbl&gt;</th></tr>\n",
       "</thead>\n",
       "<tbody>\n",
       "\t<tr><th scope=row>1</th><td>23848</td><td>69138.47</td><td>NA</td><td>      NA</td><td>      NA</td><td>          NA</td></tr>\n",
       "\t<tr><th scope=row>2</th><td>23842</td><td>67982.83</td><td> 6</td><td>1155.639</td><td>67.54828</td><td>1.082196e-83</td></tr>\n",
       "</tbody>\n",
       "</table>\n"
      ],
      "text/latex": [
       "A anova: 2 × 6\n",
       "\\begin{tabular}{r|llllll}\n",
       "  & Res.Df & RSS & Df & Sum of Sq & F & Pr(>F)\\\\\n",
       "  & <dbl> & <dbl> & <dbl> & <dbl> & <dbl> & <dbl>\\\\\n",
       "\\hline\n",
       "\t1 & 23848 & 69138.47 & NA &       NA &       NA &           NA\\\\\n",
       "\t2 & 23842 & 67982.83 &  6 & 1155.639 & 67.54828 & 1.082196e-83\\\\\n",
       "\\end{tabular}\n"
      ],
      "text/markdown": [
       "\n",
       "A anova: 2 × 6\n",
       "\n",
       "| <!--/--> | Res.Df &lt;dbl&gt; | RSS &lt;dbl&gt; | Df &lt;dbl&gt; | Sum of Sq &lt;dbl&gt; | F &lt;dbl&gt; | Pr(&gt;F) &lt;dbl&gt; |\n",
       "|---|---|---|---|---|---|---|\n",
       "| 1 | 23848 | 69138.47 | NA |       NA |       NA |           NA |\n",
       "| 2 | 23842 | 67982.83 |  6 | 1155.639 | 67.54828 | 1.082196e-83 |\n",
       "\n"
      ],
      "text/plain": [
       "  Res.Df RSS      Df Sum of Sq F        Pr(>F)      \n",
       "1 23848  69138.47 NA       NA        NA           NA\n",
       "2 23842  67982.83  6 1155.639  67.54828 1.082196e-83"
      ]
     },
     "metadata": {},
     "output_type": "display_data"
    },
    {
     "data": {
      "text/html": [
       "<table class=\"dataframe\">\n",
       "<caption>A anova: 2 × 6</caption>\n",
       "<thead>\n",
       "\t<tr><th></th><th scope=col>Res.Df</th><th scope=col>RSS</th><th scope=col>Df</th><th scope=col>Sum of Sq</th><th scope=col>F</th><th scope=col>Pr(&gt;F)</th></tr>\n",
       "\t<tr><th></th><th scope=col>&lt;dbl&gt;</th><th scope=col>&lt;dbl&gt;</th><th scope=col>&lt;dbl&gt;</th><th scope=col>&lt;dbl&gt;</th><th scope=col>&lt;dbl&gt;</th><th scope=col>&lt;dbl&gt;</th></tr>\n",
       "</thead>\n",
       "<tbody>\n",
       "\t<tr><th scope=row>1</th><td>23848</td><td>69138.47</td><td>NA</td><td>      NA</td><td>      NA</td><td>          NA</td></tr>\n",
       "\t<tr><th scope=row>2</th><td>23841</td><td>67980.87</td><td> 7</td><td>1157.601</td><td>57.99609</td><td>6.615985e-83</td></tr>\n",
       "</tbody>\n",
       "</table>\n"
      ],
      "text/latex": [
       "A anova: 2 × 6\n",
       "\\begin{tabular}{r|llllll}\n",
       "  & Res.Df & RSS & Df & Sum of Sq & F & Pr(>F)\\\\\n",
       "  & <dbl> & <dbl> & <dbl> & <dbl> & <dbl> & <dbl>\\\\\n",
       "\\hline\n",
       "\t1 & 23848 & 69138.47 & NA &       NA &       NA &           NA\\\\\n",
       "\t2 & 23841 & 67980.87 &  7 & 1157.601 & 57.99609 & 6.615985e-83\\\\\n",
       "\\end{tabular}\n"
      ],
      "text/markdown": [
       "\n",
       "A anova: 2 × 6\n",
       "\n",
       "| <!--/--> | Res.Df &lt;dbl&gt; | RSS &lt;dbl&gt; | Df &lt;dbl&gt; | Sum of Sq &lt;dbl&gt; | F &lt;dbl&gt; | Pr(&gt;F) &lt;dbl&gt; |\n",
       "|---|---|---|---|---|---|---|\n",
       "| 1 | 23848 | 69138.47 | NA |       NA |       NA |           NA |\n",
       "| 2 | 23841 | 67980.87 |  7 | 1157.601 | 57.99609 | 6.615985e-83 |\n",
       "\n"
      ],
      "text/plain": [
       "  Res.Df RSS      Df Sum of Sq F        Pr(>F)      \n",
       "1 23848  69138.47 NA       NA        NA           NA\n",
       "2 23841  67980.87  7 1157.601  57.99609 6.615985e-83"
      ]
     },
     "metadata": {},
     "output_type": "display_data"
    },
    {
     "data": {
      "text/html": [
       "<table class=\"dataframe\">\n",
       "<caption>A matrix: 8 × 4 of type dbl</caption>\n",
       "<thead>\n",
       "\t<tr><th></th><th scope=col>Estimate</th><th scope=col>Std. Error</th><th scope=col>t value</th><th scope=col>Pr(&gt;|t|)</th></tr>\n",
       "</thead>\n",
       "<tbody>\n",
       "\t<tr><th scope=row>(Intercept)</th><td>-4.446841867</td><td>1.073278823</td><td> -4.143231</td><td>3.436275e-05</td></tr>\n",
       "\t<tr><th scope=row>BMI</th><td>-0.211765051</td><td>0.016642239</td><td>-12.724553</td><td>5.698175e-37</td></tr>\n",
       "\t<tr><th scope=row>I(log(BMI))</th><td> 5.437287102</td><td>0.463311290</td><td> 11.735710</td><td>1.022382e-31</td></tr>\n",
       "\t<tr><th scope=row>diabetesNo</th><td> 0.355650334</td><td>0.039127801</td><td>  9.089454</td><td>1.070898e-19</td></tr>\n",
       "\t<tr><th scope=row>age</th><td> 0.008628671</td><td>0.003264274</td><td>  2.643366</td><td>8.213993e-03</td></tr>\n",
       "\t<tr><th scope=row>genderFemale</th><td> 0.105354374</td><td>0.022490611</td><td>  4.684371</td><td>2.823688e-06</td></tr>\n",
       "\t<tr><th scope=row>fitnessLow activity</th><td>-0.163815848</td><td>0.027353933</td><td> -5.988749</td><td>2.144886e-09</td></tr>\n",
       "\t<tr><th scope=row>fitnessNo activity</th><td>-0.331341093</td><td>0.028548848</td><td>-11.606111</td><td>4.650488e-31</td></tr>\n",
       "</tbody>\n",
       "</table>\n"
      ],
      "text/latex": [
       "A matrix: 8 × 4 of type dbl\n",
       "\\begin{tabular}{r|llll}\n",
       "  & Estimate & Std. Error & t value & Pr(>\\textbar{}t\\textbar{})\\\\\n",
       "\\hline\n",
       "\t(Intercept) & -4.446841867 & 1.073278823 &  -4.143231 & 3.436275e-05\\\\\n",
       "\tBMI & -0.211765051 & 0.016642239 & -12.724553 & 5.698175e-37\\\\\n",
       "\tI(log(BMI)) &  5.437287102 & 0.463311290 &  11.735710 & 1.022382e-31\\\\\n",
       "\tdiabetesNo &  0.355650334 & 0.039127801 &   9.089454 & 1.070898e-19\\\\\n",
       "\tage &  0.008628671 & 0.003264274 &   2.643366 & 8.213993e-03\\\\\n",
       "\tgenderFemale &  0.105354374 & 0.022490611 &   4.684371 & 2.823688e-06\\\\\n",
       "\tfitnessLow activity & -0.163815848 & 0.027353933 &  -5.988749 & 2.144886e-09\\\\\n",
       "\tfitnessNo activity & -0.331341093 & 0.028548848 & -11.606111 & 4.650488e-31\\\\\n",
       "\\end{tabular}\n"
      ],
      "text/markdown": [
       "\n",
       "A matrix: 8 × 4 of type dbl\n",
       "\n",
       "| <!--/--> | Estimate | Std. Error | t value | Pr(&gt;|t|) |\n",
       "|---|---|---|---|---|\n",
       "| (Intercept) | -4.446841867 | 1.073278823 |  -4.143231 | 3.436275e-05 |\n",
       "| BMI | -0.211765051 | 0.016642239 | -12.724553 | 5.698175e-37 |\n",
       "| I(log(BMI)) |  5.437287102 | 0.463311290 |  11.735710 | 1.022382e-31 |\n",
       "| diabetesNo |  0.355650334 | 0.039127801 |   9.089454 | 1.070898e-19 |\n",
       "| age |  0.008628671 | 0.003264274 |   2.643366 | 8.213993e-03 |\n",
       "| genderFemale |  0.105354374 | 0.022490611 |   4.684371 | 2.823688e-06 |\n",
       "| fitnessLow activity | -0.163815848 | 0.027353933 |  -5.988749 | 2.144886e-09 |\n",
       "| fitnessNo activity | -0.331341093 | 0.028548848 | -11.606111 | 4.650488e-31 |\n",
       "\n"
      ],
      "text/plain": [
       "                    Estimate     Std. Error  t value    Pr(>|t|)    \n",
       "(Intercept)         -4.446841867 1.073278823  -4.143231 3.436275e-05\n",
       "BMI                 -0.211765051 0.016642239 -12.724553 5.698175e-37\n",
       "I(log(BMI))          5.437287102 0.463311290  11.735710 1.022382e-31\n",
       "diabetesNo           0.355650334 0.039127801   9.089454 1.070898e-19\n",
       "age                  0.008628671 0.003264274   2.643366 8.213993e-03\n",
       "genderFemale         0.105354374 0.022490611   4.684371 2.823688e-06\n",
       "fitnessLow activity -0.163815848 0.027353933  -5.988749 2.144886e-09\n",
       "fitnessNo activity  -0.331341093 0.028548848 -11.606111 4.650488e-31"
      ]
     },
     "metadata": {},
     "output_type": "display_data"
    },
    {
     "data": {
      "text/html": [
       "<table class=\"dataframe\">\n",
       "<caption>A matrix: 9 × 4 of type dbl</caption>\n",
       "<thead>\n",
       "\t<tr><th></th><th scope=col>Estimate</th><th scope=col>Std. Error</th><th scope=col>t value</th><th scope=col>Pr(&gt;|t|)</th></tr>\n",
       "</thead>\n",
       "<tbody>\n",
       "\t<tr><th scope=row>(Intercept)</th><td>-4.760876900</td><td>1.138082181</td><td> -4.1832453</td><td>2.884047e-05</td></tr>\n",
       "\t<tr><th scope=row>BMI</th><td>-0.209074090</td><td>0.016955502</td><td>-12.3307517</td><td>7.900811e-35</td></tr>\n",
       "\t<tr><th scope=row>diabetesNo</th><td> 0.525793153</td><td>0.208787672</td><td>  2.5183151</td><td>1.179827e-02</td></tr>\n",
       "\t<tr><th scope=row>I(log(BMI))</th><td> 5.506357198</td><td>0.470735370</td><td> 11.6973517</td><td>1.603534e-31</td></tr>\n",
       "\t<tr><th scope=row>age</th><td> 0.008702653</td><td>0.003265513</td><td>  2.6650184</td><td>7.703596e-03</td></tr>\n",
       "\t<tr><th scope=row>genderFemale</th><td> 0.105329061</td><td>0.022490779</td><td>  4.6832109</td><td>2.839713e-06</td></tr>\n",
       "\t<tr><th scope=row>fitnessLow activity</th><td>-0.163801831</td><td>0.027354117</td><td> -5.9881966</td><td>2.152177e-09</td></tr>\n",
       "\t<tr><th scope=row>fitnessNo activity</th><td>-0.331121270</td><td>0.028550264</td><td>-11.5978355</td><td>5.119975e-31</td></tr>\n",
       "\t<tr><th scope=row>BMI:diabetesNo</th><td>-0.005785540</td><td>0.006973833</td><td> -0.8296069</td><td>4.067694e-01</td></tr>\n",
       "</tbody>\n",
       "</table>\n"
      ],
      "text/latex": [
       "A matrix: 9 × 4 of type dbl\n",
       "\\begin{tabular}{r|llll}\n",
       "  & Estimate & Std. Error & t value & Pr(>\\textbar{}t\\textbar{})\\\\\n",
       "\\hline\n",
       "\t(Intercept) & -4.760876900 & 1.138082181 &  -4.1832453 & 2.884047e-05\\\\\n",
       "\tBMI & -0.209074090 & 0.016955502 & -12.3307517 & 7.900811e-35\\\\\n",
       "\tdiabetesNo &  0.525793153 & 0.208787672 &   2.5183151 & 1.179827e-02\\\\\n",
       "\tI(log(BMI)) &  5.506357198 & 0.470735370 &  11.6973517 & 1.603534e-31\\\\\n",
       "\tage &  0.008702653 & 0.003265513 &   2.6650184 & 7.703596e-03\\\\\n",
       "\tgenderFemale &  0.105329061 & 0.022490779 &   4.6832109 & 2.839713e-06\\\\\n",
       "\tfitnessLow activity & -0.163801831 & 0.027354117 &  -5.9881966 & 2.152177e-09\\\\\n",
       "\tfitnessNo activity & -0.331121270 & 0.028550264 & -11.5978355 & 5.119975e-31\\\\\n",
       "\tBMI:diabetesNo & -0.005785540 & 0.006973833 &  -0.8296069 & 4.067694e-01\\\\\n",
       "\\end{tabular}\n"
      ],
      "text/markdown": [
       "\n",
       "A matrix: 9 × 4 of type dbl\n",
       "\n",
       "| <!--/--> | Estimate | Std. Error | t value | Pr(&gt;|t|) |\n",
       "|---|---|---|---|---|\n",
       "| (Intercept) | -4.760876900 | 1.138082181 |  -4.1832453 | 2.884047e-05 |\n",
       "| BMI | -0.209074090 | 0.016955502 | -12.3307517 | 7.900811e-35 |\n",
       "| diabetesNo |  0.525793153 | 0.208787672 |   2.5183151 | 1.179827e-02 |\n",
       "| I(log(BMI)) |  5.506357198 | 0.470735370 |  11.6973517 | 1.603534e-31 |\n",
       "| age |  0.008702653 | 0.003265513 |   2.6650184 | 7.703596e-03 |\n",
       "| genderFemale |  0.105329061 | 0.022490779 |   4.6832109 | 2.839713e-06 |\n",
       "| fitnessLow activity | -0.163801831 | 0.027354117 |  -5.9881966 | 2.152177e-09 |\n",
       "| fitnessNo activity | -0.331121270 | 0.028550264 | -11.5978355 | 5.119975e-31 |\n",
       "| BMI:diabetesNo | -0.005785540 | 0.006973833 |  -0.8296069 | 4.067694e-01 |\n",
       "\n"
      ],
      "text/plain": [
       "                    Estimate     Std. Error  t value     Pr(>|t|)    \n",
       "(Intercept)         -4.760876900 1.138082181  -4.1832453 2.884047e-05\n",
       "BMI                 -0.209074090 0.016955502 -12.3307517 7.900811e-35\n",
       "diabetesNo           0.525793153 0.208787672   2.5183151 1.179827e-02\n",
       "I(log(BMI))          5.506357198 0.470735370  11.6973517 1.603534e-31\n",
       "age                  0.008702653 0.003265513   2.6650184 7.703596e-03\n",
       "genderFemale         0.105329061 0.022490779   4.6832109 2.839713e-06\n",
       "fitnessLow activity -0.163801831 0.027354117  -5.9881966 2.152177e-09\n",
       "fitnessNo activity  -0.331121270 0.028550264 -11.5978355 5.119975e-31\n",
       "BMI:diabetesNo      -0.005785540 0.006973833  -0.8296069 4.067694e-01"
      ]
     },
     "metadata": {},
     "output_type": "display_data"
    }
   ],
   "source": [
    "# Model 1: Linear functional form\n",
    "lm1 <- lm(data = cchs, happy_score ~ BMI)\n",
    "\n",
    "# Model 2: Quadratic functional form\n",
    "lm2 <- lm(data = cchs, happy_score ~ BMI+I(log(BMI))+diabetes+ age+ gender + fitness)\n",
    "\n",
    "# Model 3: Logarithmic functional form\n",
    "lm3 <- lm(data = cchs, happy_score ~ BMI*di +I(log(BMI))+diabetes+ age+ gender + fitness)\n",
    "\n",
    "# Compare models using adjusted R-squared\n",
    "summary(lm1)$adj.r.squared\n",
    "summary(lm2)$adj.r.squared\n",
    "summary(lm3)$adj.r.squared\n",
    "\n",
    "# Compare models using F-test and t-tests\n",
    "anova(lm1, lm2)\n",
    "anova(lm1, lm3)\n",
    "summary(lm2)$coef\n",
    "summary(lm3)$coef\n",
    " "
   ]
  },
  {
   "cell_type": "code",
   "execution_count": 150,
   "id": "a86b7c06",
   "metadata": {
    "scrolled": true
   },
   "outputs": [
    {
     "name": "stdout",
     "output_type": "stream",
     "text": [
      "\n",
      "Comparison of Regression Results\n",
      "=====================================================================\n",
      "                                   Dependent variable:               \n",
      "                    -------------------------------------------------\n",
      "                                       happy_score                   \n",
      "                       (1)       (2)       (3)       (4)       (5)   \n",
      "---------------------------------------------------------------------\n",
      "BMI                 -0.023*** -0.019*** -0.027*** -0.209*** -0.212***\n",
      "                     (0.002)   (0.002)   (0.007)   (0.017)   (0.017) \n",
      "                                                                     \n",
      "diabetesNo                    0.393***    0.135   0.585***  0.356*** \n",
      "                               (0.038)   (0.206)   (0.209)   (0.039) \n",
      "                                                                     \n",
      "age                                                         0.009*** \n",
      "                                                             (0.003) \n",
      "                                                                     \n",
      "genderFemale                                                0.105*** \n",
      "                                                             (0.022) \n",
      "                                                                     \n",
      "fitnessLow activity                                         -0.164***\n",
      "                                                             (0.027) \n",
      "                                                                     \n",
      "fitnessNo activity                                          -0.331***\n",
      "                                                             (0.029) \n",
      "                                                                     \n",
      "I(log(BMI))                                       5.473***  5.437*** \n",
      "                                                   (0.461)   (0.463) \n",
      "                                                                     \n",
      "BMI:diabetesNo                            0.009    -0.007            \n",
      "                                         (0.007)   (0.007)           \n",
      "                                                                     \n",
      "Constant            8.628***  8.166***  8.399***  -4.668*** -4.447***\n",
      "                     (0.058)   (0.073)   (0.197)   (1.118)   (1.073) \n",
      "                                                                     \n",
      "---------------------------------------------------------------------\n",
      "Observations         23,850    23,850    23,850    23,850    23,850  \n",
      "R2                    0.005     0.009     0.009     0.015     0.022  \n",
      "=====================================================================\n",
      "Note:                                     *p<0.1; **p<0.05; ***p<0.01\n"
     ]
    }
   ],
   "source": [
    "simple <- lm(data = cchs, happy_score ~ BMI) #the effect of gender on wealth\n",
    "multi <- lm(data = cchs, happy_score ~ BMI + diabetes)\n",
    "interaction <- lm(data = cchs, happy_score ~ BMI*diabetes) #the interaction of BMI and diabetes on happpiness\n",
    "nonlinear <- lm(data = cchs, happy_score ~ BMI*diabetes + I(log(BMI)))\n",
    "controls <- lm(data = cchs, happy_score ~ BMI +I(log(BMI))+diabetes+ age+ gender + fitness)\n",
    "\n",
    "stargazer(simple, multi, interaction, nonlinear,controls, title=\"Comparison of Regression Results\",\n",
    "          align = TRUE, type=\"text\", keep.stat = c(\"n\",\"rsq\"))"
   ]
  },
  {
   "cell_type": "code",
   "execution_count": null,
   "id": "63acf99d",
   "metadata": {},
   "outputs": [],
   "source": [
    "library(lmtest)\n",
    "stargazer(bptest(simple), bptest(multi), bptest(interaction), bptest(nonlinear),bptest(controls), title=\"Comparison of Regression Results\",\n",
    "          align = TRUE, type=\"text\", keep.stat = c(\"n\",\"rsq\"))"
   ]
  }
 ],
 "metadata": {
  "kernelspec": {
   "display_name": "R",
   "language": "R",
   "name": "ir"
  },
  "language_info": {
   "codemirror_mode": "r",
   "file_extension": ".r",
   "mimetype": "text/x-r-source",
   "name": "R",
   "pygments_lexer": "r",
   "version": "4.1.1"
  }
 },
 "nbformat": 4,
 "nbformat_minor": 5
}
