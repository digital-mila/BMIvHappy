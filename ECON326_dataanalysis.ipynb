{
 "cells": [
  {
   "cell_type": "code",
   "execution_count": 1,
   "id": "849e2e34",
   "metadata": {},
   "outputs": [
    {
     "name": "stderr",
     "output_type": "stream",
     "text": [
      "── \u001b[1mAttaching core tidyverse packages\u001b[22m ──────────────────────── tidyverse 2.0.0 ──\n",
      "\u001b[32m✔\u001b[39m \u001b[34mdplyr    \u001b[39m 1.1.2     \u001b[32m✔\u001b[39m \u001b[34mreadr    \u001b[39m 2.1.4\n",
      "\u001b[32m✔\u001b[39m \u001b[34mforcats  \u001b[39m 1.0.0     \u001b[32m✔\u001b[39m \u001b[34mstringr  \u001b[39m 1.5.0\n",
      "\u001b[32m✔\u001b[39m \u001b[34mggplot2  \u001b[39m 3.4.2     \u001b[32m✔\u001b[39m \u001b[34mtibble   \u001b[39m 3.2.1\n",
      "\u001b[32m✔\u001b[39m \u001b[34mlubridate\u001b[39m 1.9.2     \u001b[32m✔\u001b[39m \u001b[34mtidyr    \u001b[39m 1.3.0\n",
      "\u001b[32m✔\u001b[39m \u001b[34mpurrr    \u001b[39m 1.0.1     \n",
      "── \u001b[1mConflicts\u001b[22m ────────────────────────────────────────── tidyverse_conflicts() ──\n",
      "\u001b[31m✖\u001b[39m \u001b[34mdplyr\u001b[39m::\u001b[32mfilter()\u001b[39m masks \u001b[34mstats\u001b[39m::filter()\n",
      "\u001b[31m✖\u001b[39m \u001b[34mdplyr\u001b[39m::\u001b[32mlag()\u001b[39m    masks \u001b[34mstats\u001b[39m::lag()\n",
      "\u001b[36mℹ\u001b[39m Use the conflicted package (\u001b[3m\u001b[34m<http://conflicted.r-lib.org/>\u001b[39m\u001b[23m) to force all conflicts to become errors\n",
      "Installing package into ‘/home/jupyter/R/x86_64-pc-linux-gnu-library/4.3’\n",
      "(as ‘lib’ is unspecified)\n",
      "\n",
      "\n",
      "Please cite as: \n",
      "\n",
      "\n",
      " Hlavac, Marek (2022). stargazer: Well-Formatted Regression and Summary Statistics Tables.\n",
      "\n",
      " R package version 5.2.3. https://CRAN.R-project.org/package=stargazer \n",
      "\n",
      "\n"
     ]
    }
   ],
   "source": [
    "library(tidyverse)\n",
    "library(haven)\n",
    "library(dplyr)\n",
    "\n",
    "install.packages(\"stargazer\")\n",
    "library(stargazer)"
   ]
  },
  {
   "cell_type": "code",
   "execution_count": 2,
   "id": "2dd2e0bd",
   "metadata": {},
   "outputs": [
    {
     "name": "stderr",
     "output_type": "stream",
     "text": [
      "Warning message:\n",
      "“\u001b[1m\u001b[22mThere was 1 warning in `mutate()`.\n",
      "\u001b[1m\u001b[22m\u001b[36mℹ\u001b[39m In argument: `across(c(\"BMI\"), round, 0)`.\n",
      "Caused by warning:\n",
      "\u001b[1m\u001b[22m\u001b[33m!\u001b[39m The `...` argument of `across()` is deprecated as of dplyr 1.1.0.\n",
      "Supply arguments directly to `.fns` through an anonymous function instead.\n",
      "\n",
      "  # Previously\n",
      "  across(a:b, mean, na.rm = TRUE)\n",
      "\n",
      "  # Now\n",
      "  across(a:b, \\(x) mean(x, na.rm = TRUE))”\n"
     ]
    },
    {
     "data": {
      "text/html": [
       "<table class=\"dataframe\">\n",
       "<caption>A tibble: 6 × 9</caption>\n",
       "<thead>\n",
       "\t<tr><th scope=col>gender</th><th scope=col>age</th><th scope=col>happy_score</th><th scope=col>mental_health</th><th scope=col>BMI</th><th scope=col>BMI_group</th><th scope=col>diabetes</th><th scope=col>fitness</th><th scope=col>income</th></tr>\n",
       "\t<tr><th scope=col>&lt;fct&gt;</th><th scope=col>&lt;fct&gt;</th><th scope=col>&lt;dbl+lbl&gt;</th><th scope=col>&lt;dbl&gt;</th><th scope=col>&lt;dbl&gt;</th><th scope=col>&lt;fct&gt;</th><th scope=col>&lt;fct&gt;</th><th scope=col>&lt;chr&gt;</th><th scope=col>&lt;fct&gt;</th></tr>\n",
       "</thead>\n",
       "<tbody>\n",
       "\t<tr><td>Female</td><td>Age between 45 and 49</td><td>10</td><td>5</td><td>20</td><td>Normal weight</td><td>No</td><td>Low activity </td><td>$80,000 or more               </td></tr>\n",
       "\t<tr><td>Female</td><td>Age between 50 and 54</td><td> 6</td><td>3</td><td>23</td><td>Normal weight</td><td>No</td><td>No activity  </td><td>$40,000 to $59,999            </td></tr>\n",
       "\t<tr><td>Female</td><td>Age between 70 and 74</td><td>10</td><td>5</td><td>29</td><td>Overweight   </td><td>No</td><td>High activity</td><td>$20,000 to $39,999            </td></tr>\n",
       "\t<tr><td>Female</td><td>Age between 60 and 64</td><td> 8</td><td>5</td><td>27</td><td>Overweight   </td><td>No</td><td>Low activity </td><td>$60,000 to $79,999            </td></tr>\n",
       "\t<tr><td>Male  </td><td>Age between 35 and 39</td><td> 9</td><td>4</td><td>24</td><td>Normal weight</td><td>No</td><td>High activity</td><td>$80,000 or more               </td></tr>\n",
       "\t<tr><td>Male  </td><td>Age between 55 and 59</td><td> 6</td><td>4</td><td>29</td><td>Overweight   </td><td>No</td><td>Low activity </td><td>No income or less than $20,000</td></tr>\n",
       "</tbody>\n",
       "</table>\n"
      ],
      "text/latex": [
       "A tibble: 6 × 9\n",
       "\\begin{tabular}{lllllllll}\n",
       " gender & age & happy\\_score & mental\\_health & BMI & BMI\\_group & diabetes & fitness & income\\\\\n",
       " <fct> & <fct> & <dbl+lbl> & <dbl> & <dbl> & <fct> & <fct> & <chr> & <fct>\\\\\n",
       "\\hline\n",
       "\t Female & Age between 45 and 49 & 10 & 5 & 20 & Normal weight & No & Low activity  & \\$80,000 or more               \\\\\n",
       "\t Female & Age between 50 and 54 &  6 & 3 & 23 & Normal weight & No & No activity   & \\$40,000 to \\$59,999            \\\\\n",
       "\t Female & Age between 70 and 74 & 10 & 5 & 29 & Overweight    & No & High activity & \\$20,000 to \\$39,999            \\\\\n",
       "\t Female & Age between 60 and 64 &  8 & 5 & 27 & Overweight    & No & Low activity  & \\$60,000 to \\$79,999            \\\\\n",
       "\t Male   & Age between 35 and 39 &  9 & 4 & 24 & Normal weight & No & High activity & \\$80,000 or more               \\\\\n",
       "\t Male   & Age between 55 and 59 &  6 & 4 & 29 & Overweight    & No & Low activity  & No income or less than \\$20,000\\\\\n",
       "\\end{tabular}\n"
      ],
      "text/markdown": [
       "\n",
       "A tibble: 6 × 9\n",
       "\n",
       "| gender &lt;fct&gt; | age &lt;fct&gt; | happy_score &lt;dbl+lbl&gt; | mental_health &lt;dbl&gt; | BMI &lt;dbl&gt; | BMI_group &lt;fct&gt; | diabetes &lt;fct&gt; | fitness &lt;chr&gt; | income &lt;fct&gt; |\n",
       "|---|---|---|---|---|---|---|---|---|\n",
       "| Female | Age between 45 and 49 | 10 | 5 | 20 | Normal weight | No | Low activity  | $80,000 or more                |\n",
       "| Female | Age between 50 and 54 |  6 | 3 | 23 | Normal weight | No | No activity   | $40,000 to $59,999             |\n",
       "| Female | Age between 70 and 74 | 10 | 5 | 29 | Overweight    | No | High activity | $20,000 to $39,999             |\n",
       "| Female | Age between 60 and 64 |  8 | 5 | 27 | Overweight    | No | Low activity  | $60,000 to $79,999             |\n",
       "| Male   | Age between 35 and 39 |  9 | 4 | 24 | Normal weight | No | High activity | $80,000 or more                |\n",
       "| Male   | Age between 55 and 59 |  6 | 4 | 29 | Overweight    | No | Low activity  | No income or less than $20,000 |\n",
       "\n"
      ],
      "text/plain": [
       "  gender age                   happy_score mental_health BMI BMI_group    \n",
       "1 Female Age between 45 and 49 10          5             20  Normal weight\n",
       "2 Female Age between 50 and 54  6          3             23  Normal weight\n",
       "3 Female Age between 70 and 74 10          5             29  Overweight   \n",
       "4 Female Age between 60 and 64  8          5             27  Overweight   \n",
       "5 Male   Age between 35 and 39  9          4             24  Normal weight\n",
       "6 Male   Age between 55 and 59  6          4             29  Overweight   \n",
       "  diabetes fitness       income                        \n",
       "1 No       Low activity  $80,000 or more               \n",
       "2 No       No activity   $40,000 to $59,999            \n",
       "3 No       High activity $20,000 to $39,999            \n",
       "4 No       Low activity  $60,000 to $79,999            \n",
       "5 No       High activity $80,000 or more               \n",
       "6 No       Low activity  No income or less than $20,000"
      ]
     },
     "metadata": {},
     "output_type": "display_data"
    }
   ],
   "source": [
    "cchs <- read_dta(\"CCHS_Annual_2017_2018_curated_trimmed_25%.dta\",\n",
    "                 encoding = NULL,\n",
    "                 c(hwtdgbmi,\n",
    "                   hwtdgisw,\n",
    "                   incdghh,\n",
    "                   GEN_010,\n",
    "                   GEN_015,\n",
    "                   dhhgage,\n",
    "                   CCC_095,\n",
    "                   DHH_SEX,\n",
    "                   paadvacv),\n",
    "                 skip = 0,\n",
    "                 n_max = Inf,\n",
    "                 .name_repair = \"unique\") %>%\n",
    "        drop_na() %>% \n",
    "        filter(hwtdgbmi != 999.96&999.99  & hwtdgisw != 6&9 & incdghh != 9 & GEN_010 != 97&98&99 & GEN_015 != 7&8&9 & dhhgage != 01&02 & paadvacv != 6&9) %>%\n",
    "        rename(\"BMI\" = \"hwtdgbmi\",\n",
    "               \"BMI_group\" = \"hwtdgisw\",\n",
    "               \"income\" = \"incdghh\",\n",
    "               \"happy_score\" = \"GEN_010\",\n",
    "               \"mental_health\" = \"GEN_015\",\n",
    "               \"age\" = \"dhhgage\",\n",
    "               \"diabetes\" = \"CCC_095\",\n",
    "               \"gender\" = \"DHH_SEX\",\n",
    "               \"fitness\" = \"paadvacv\") %>%\n",
    "        mutate(BMI_group = as_factor(BMI_group),\n",
    "               age = as_factor(age),\n",
    "               diabetes = as_factor(diabetes), \n",
    "               BMI_group = as_factor(BMI_group),\n",
    "               gender = as_factor(gender),\n",
    "               fitness = as_factor(fitness),\n",
    "               income = as_factor(income)) %>%\n",
    "        mutate(mental_health = case_when(\n",
    "            mental_health == 1 ~ 5,\n",
    "            mental_health == 2 ~ 4,\n",
    "            mental_health == 3 ~ 3,\n",
    "            mental_health == 4 ~ 2,\n",
    "            mental_health == 5 ~ 1,\n",
    "        )) %>% \n",
    "        mutate(fitness = case_when(\n",
    "            fitness == \"Physically active at / above recommended level from CPAG\" ~ \"High activity\",\n",
    "            fitness == \"Physically active below recommended level from CPAG\" ~ \"Low activity\",\n",
    "            fitness == \"No physical activity minutes reported\" ~ \"No activity\")) %>%\n",
    "        mutate(across(c('BMI'), round, 0))\n",
    "\n",
    "\n",
    "head(cchs)"
   ]
  },
  {
   "cell_type": "code",
   "execution_count": 3,
   "id": "8e06d733",
   "metadata": {},
   "outputs": [
    {
     "data": {
      "text/html": [
       "<table class=\"dataframe\">\n",
       "<caption>A tibble: 4 × 5</caption>\n",
       "<thead>\n",
       "\t<tr><th scope=col>BMI_group</th><th scope=col>Mean_happyscore</th><th scope=col>Min_happyscore</th><th scope=col>Max_happyscore</th><th scope=col>Sd_happyscore</th></tr>\n",
       "\t<tr><th scope=col>&lt;fct&gt;</th><th scope=col>&lt;dbl&gt;</th><th scope=col>&lt;dbl+lbl&gt;</th><th scope=col>&lt;dbl+lbl&gt;</th><th scope=col>&lt;dbl&gt;</th></tr>\n",
       "</thead>\n",
       "<tbody>\n",
       "\t<tr><td>Underweight             </td><td>7.636139</td><td>0</td><td>10</td><td>1.978490</td></tr>\n",
       "\t<tr><td>Normal weight           </td><td>8.093193</td><td>0</td><td>10</td><td>1.642554</td></tr>\n",
       "\t<tr><td>Overweight              </td><td>8.113201</td><td>0</td><td>10</td><td>1.632970</td></tr>\n",
       "\t<tr><td>Obese - Class I, II, III</td><td>7.764633</td><td>0</td><td>10</td><td>1.846301</td></tr>\n",
       "</tbody>\n",
       "</table>\n"
      ],
      "text/latex": [
       "A tibble: 4 × 5\n",
       "\\begin{tabular}{lllll}\n",
       " BMI\\_group & Mean\\_happyscore & Min\\_happyscore & Max\\_happyscore & Sd\\_happyscore\\\\\n",
       " <fct> & <dbl> & <dbl+lbl> & <dbl+lbl> & <dbl>\\\\\n",
       "\\hline\n",
       "\t Underweight              & 7.636139 & 0 & 10 & 1.978490\\\\\n",
       "\t Normal weight            & 8.093193 & 0 & 10 & 1.642554\\\\\n",
       "\t Overweight               & 8.113201 & 0 & 10 & 1.632970\\\\\n",
       "\t Obese - Class I, II, III & 7.764633 & 0 & 10 & 1.846301\\\\\n",
       "\\end{tabular}\n"
      ],
      "text/markdown": [
       "\n",
       "A tibble: 4 × 5\n",
       "\n",
       "| BMI_group &lt;fct&gt; | Mean_happyscore &lt;dbl&gt; | Min_happyscore &lt;dbl+lbl&gt; | Max_happyscore &lt;dbl+lbl&gt; | Sd_happyscore &lt;dbl&gt; |\n",
       "|---|---|---|---|---|\n",
       "| Underweight              | 7.636139 | 0 | 10 | 1.978490 |\n",
       "| Normal weight            | 8.093193 | 0 | 10 | 1.642554 |\n",
       "| Overweight               | 8.113201 | 0 | 10 | 1.632970 |\n",
       "| Obese - Class I, II, III | 7.764633 | 0 | 10 | 1.846301 |\n",
       "\n"
      ],
      "text/plain": [
       "  BMI_group                Mean_happyscore Min_happyscore Max_happyscore\n",
       "1 Underweight              7.636139        0              10            \n",
       "2 Normal weight            8.093193        0              10            \n",
       "3 Overweight               8.113201        0              10            \n",
       "4 Obese - Class I, II, III 7.764633        0              10            \n",
       "  Sd_happyscore\n",
       "1 1.978490     \n",
       "2 1.642554     \n",
       "3 1.632970     \n",
       "4 1.846301     "
      ]
     },
     "metadata": {},
     "output_type": "display_data"
    },
    {
     "name": "stderr",
     "output_type": "stream",
     "text": [
      "\u001b[1m\u001b[22m`summarise()` has grouped output by 'BMI_group'. You can override using the\n",
      "`.groups` argument.\n"
     ]
    },
    {
     "data": {
      "text/html": [
       "<table class=\"dataframe\">\n",
       "<caption>A tibble: 8 × 6</caption>\n",
       "<thead>\n",
       "\t<tr><th scope=col>BMI_group</th><th scope=col>diabetes</th><th scope=col>Mean_happyscore</th><th scope=col>Min_happyscore</th><th scope=col>Max_happyscore</th><th scope=col>Sd_happyscore</th></tr>\n",
       "\t<tr><th scope=col>&lt;fct&gt;</th><th scope=col>&lt;fct&gt;</th><th scope=col>&lt;dbl&gt;</th><th scope=col>&lt;dbl+lbl&gt;</th><th scope=col>&lt;dbl+lbl&gt;</th><th scope=col>&lt;dbl&gt;</th></tr>\n",
       "</thead>\n",
       "<tbody>\n",
       "\t<tr><td>Underweight             </td><td>Yes</td><td>7.083333</td><td>2</td><td>10</td><td>2.391589</td></tr>\n",
       "\t<tr><td>Underweight             </td><td>No </td><td>7.653061</td><td>0</td><td>10</td><td>1.965701</td></tr>\n",
       "\t<tr><td>Normal weight           </td><td>Yes</td><td>7.703371</td><td>0</td><td>10</td><td>1.975552</td></tr>\n",
       "\t<tr><td>Normal weight           </td><td>No </td><td>8.112403</td><td>0</td><td>10</td><td>1.622091</td></tr>\n",
       "\t<tr><td>Overweight              </td><td>Yes</td><td>7.700394</td><td>0</td><td>10</td><td>1.986696</td></tr>\n",
       "\t<tr><td>Overweight              </td><td>No </td><td>8.154898</td><td>0</td><td>10</td><td>1.587078</td></tr>\n",
       "\t<tr><td>Obese - Class I, II, III</td><td>Yes</td><td>7.492157</td><td>0</td><td>10</td><td>2.035248</td></tr>\n",
       "\t<tr><td>Obese - Class I, II, III</td><td>No </td><td>7.825038</td><td>0</td><td>10</td><td>1.796383</td></tr>\n",
       "</tbody>\n",
       "</table>\n"
      ],
      "text/latex": [
       "A tibble: 8 × 6\n",
       "\\begin{tabular}{llllll}\n",
       " BMI\\_group & diabetes & Mean\\_happyscore & Min\\_happyscore & Max\\_happyscore & Sd\\_happyscore\\\\\n",
       " <fct> & <fct> & <dbl> & <dbl+lbl> & <dbl+lbl> & <dbl>\\\\\n",
       "\\hline\n",
       "\t Underweight              & Yes & 7.083333 & 2 & 10 & 2.391589\\\\\n",
       "\t Underweight              & No  & 7.653061 & 0 & 10 & 1.965701\\\\\n",
       "\t Normal weight            & Yes & 7.703371 & 0 & 10 & 1.975552\\\\\n",
       "\t Normal weight            & No  & 8.112403 & 0 & 10 & 1.622091\\\\\n",
       "\t Overweight               & Yes & 7.700394 & 0 & 10 & 1.986696\\\\\n",
       "\t Overweight               & No  & 8.154898 & 0 & 10 & 1.587078\\\\\n",
       "\t Obese - Class I, II, III & Yes & 7.492157 & 0 & 10 & 2.035248\\\\\n",
       "\t Obese - Class I, II, III & No  & 7.825038 & 0 & 10 & 1.796383\\\\\n",
       "\\end{tabular}\n"
      ],
      "text/markdown": [
       "\n",
       "A tibble: 8 × 6\n",
       "\n",
       "| BMI_group &lt;fct&gt; | diabetes &lt;fct&gt; | Mean_happyscore &lt;dbl&gt; | Min_happyscore &lt;dbl+lbl&gt; | Max_happyscore &lt;dbl+lbl&gt; | Sd_happyscore &lt;dbl&gt; |\n",
       "|---|---|---|---|---|---|\n",
       "| Underweight              | Yes | 7.083333 | 2 | 10 | 2.391589 |\n",
       "| Underweight              | No  | 7.653061 | 0 | 10 | 1.965701 |\n",
       "| Normal weight            | Yes | 7.703371 | 0 | 10 | 1.975552 |\n",
       "| Normal weight            | No  | 8.112403 | 0 | 10 | 1.622091 |\n",
       "| Overweight               | Yes | 7.700394 | 0 | 10 | 1.986696 |\n",
       "| Overweight               | No  | 8.154898 | 0 | 10 | 1.587078 |\n",
       "| Obese - Class I, II, III | Yes | 7.492157 | 0 | 10 | 2.035248 |\n",
       "| Obese - Class I, II, III | No  | 7.825038 | 0 | 10 | 1.796383 |\n",
       "\n"
      ],
      "text/plain": [
       "  BMI_group                diabetes Mean_happyscore Min_happyscore\n",
       "1 Underweight              Yes      7.083333        2             \n",
       "2 Underweight              No       7.653061        0             \n",
       "3 Normal weight            Yes      7.703371        0             \n",
       "4 Normal weight            No       8.112403        0             \n",
       "5 Overweight               Yes      7.700394        0             \n",
       "6 Overweight               No       8.154898        0             \n",
       "7 Obese - Class I, II, III Yes      7.492157        0             \n",
       "8 Obese - Class I, II, III No       7.825038        0             \n",
       "  Max_happyscore Sd_happyscore\n",
       "1 10             2.391589     \n",
       "2 10             1.965701     \n",
       "3 10             1.975552     \n",
       "4 10             1.622091     \n",
       "5 10             1.986696     \n",
       "6 10             1.587078     \n",
       "7 10             2.035248     \n",
       "8 10             1.796383     "
      ]
     },
     "metadata": {},
     "output_type": "display_data"
    }
   ],
   "source": [
    "summaryBMI <- select(cchs, happy_score, BMI_group) %>%\n",
    "            group_by(BMI_group) %>% \n",
    "            summarise(Mean_happyscore = mean(happy_score), \n",
    "                      Min_happyscore = min(happy_score),\n",
    "                      Max_happyscore = max(happy_score), \n",
    "                      Sd_happyscore = sd(happy_score)) %>%\n",
    "            ungroup()\n",
    "\n",
    "summaryBMI\n",
    "\n",
    "summary <- select(cchs, happy_score, BMI_group, diabetes) %>%\n",
    "            group_by(BMI_group, diabetes) %>% \n",
    "            summarise(Mean_happyscore = mean(happy_score), \n",
    "                      Min_happyscore = min(happy_score),\n",
    "                      Max_happyscore = max(happy_score), \n",
    "                      Sd_happyscore = sd(happy_score)) %>%\n",
    "            ungroup()\n",
    "\n",
    "summary\n",
    "\n",
    "write.csv(summaryBMI, \"summaryBMI.csv\", row.names = F)"
   ]
  },
  {
   "cell_type": "code",
   "execution_count": 4,
   "id": "75ed515c",
   "metadata": {
    "scrolled": true
   },
   "outputs": [
    {
     "data": {
      "text/html": [
       "0.00496639337371607"
      ],
      "text/latex": [
       "0.00496639337371607"
      ],
      "text/markdown": [
       "0.00496639337371607"
      ],
      "text/plain": [
       "[1] 0.004966393"
      ]
     },
     "metadata": {},
     "output_type": "display_data"
    },
    {
     "data": {
      "text/html": [
       "0.0170640307272443"
      ],
      "text/latex": [
       "0.0170640307272443"
      ],
      "text/markdown": [
       "0.0170640307272443"
      ],
      "text/plain": [
       "[1] 0.01706403"
      ]
     },
     "metadata": {},
     "output_type": "display_data"
    },
    {
     "data": {
      "text/html": [
       "0.0235363631103666"
      ],
      "text/latex": [
       "0.0235363631103666"
      ],
      "text/markdown": [
       "0.0235363631103666"
      ],
      "text/plain": [
       "[1] 0.02353636"
      ]
     },
     "metadata": {},
     "output_type": "display_data"
    }
   ],
   "source": [
    "# Model 1: Linear functional form\n",
    "lm1 <- lm(data = cchs, happy_score ~ BMI)\n",
    "\n",
    "# Model 2: Quadratic functional form\n",
    "lm2 <- lm(data = cchs, happy_score ~ BMI+I(-BMI^2)+diabetes+ age+ gender)\n",
    "\n",
    "# Model 3: Logarithmic functional form\n",
    "lm3 <- lm(data = cchs, happy_score ~ BMI +I(log(BMI))+diabetes+ age+ gender + fitness)\n",
    "\n",
    "# Compare models using adjusted R-squared\n",
    "summary(lm1)$adj.r.squared\n",
    "summary(lm2)$adj.r.squared\n",
    "summary(lm3)$adj.r.squared"
   ]
  },
  {
   "cell_type": "code",
   "execution_count": 5,
   "id": "a86b7c06",
   "metadata": {
    "scrolled": true
   },
   "outputs": [
    {
     "name": "stdout",
     "output_type": "stream",
     "text": [
      "\n",
      "Comparison of Regression Results\n",
      "==============================================================================================================================\n",
      "                                                               Dependent variable:                                            \n",
      "                    ----------------------------------------------------------------------------------------------------------\n",
      "                                                                   happy_score                                                \n",
      "                               (1)                        (2)                       (3)                        (4)            \n",
      "------------------------------------------------------------------------------------------------------------------------------\n",
      "BMI                         -0.019***                  -0.027***                 -0.212***                  -0.211***         \n",
      "                             (0.002)                    (0.007)                   (0.016)                    (0.017)          \n",
      "                                                                                                                              \n",
      "I(log(BMI))                                                                       5.389***                   5.438***         \n",
      "                                                                                  (0.453)                    (0.463)          \n",
      "                                                                                                                              \n",
      "diabetesNo                   0.394***                    0.148                    0.395***                   0.367***         \n",
      "                             (0.038)                    (0.206)                   (0.038)                    (0.039)          \n",
      "                                                                                                                              \n",
      "BMI:diabetesNo                                           0.008                                                                \n",
      "                                                        (0.007)                                                               \n",
      "                                                                                                                              \n",
      "fitnessLow activity                                                                                         -0.161***         \n",
      "                                                                                                             (0.027)          \n",
      "                                                                                                                              \n",
      "fitnessNo activity                                                                                          -0.336***         \n",
      "                                                                                                             (0.029)          \n",
      "                                                                                                                              \n",
      "Constant                     8.172***                  8.393***                  -4.296***                  -4.353***         \n",
      "                             (0.073)                    (0.197)                   (1.050)                    (1.074)          \n",
      "                                                                                                                              \n",
      "------------------------------------------------------------------------------------------------------------------------------\n",
      "Observations                  23,795                    23,795                     23,795                     23,795          \n",
      "R2                            0.009                      0.009                     0.015                      0.024           \n",
      "Adjusted R2                   0.009                      0.009                     0.015                      0.024           \n",
      "Residual Std. Error     1.694 (df = 23792)        1.694 (df = 23791)         1.689 (df = 23791)         1.682 (df = 23775)    \n",
      "F Statistic         113.093*** (df = 2; 23792) 75.889*** (df = 3; 23791) 123.101*** (df = 3; 23791) 31.185*** (df = 19; 23775)\n",
      "==============================================================================================================================\n",
      "Note:                                                                                              *p<0.1; **p<0.05; ***p<0.01\n"
     ]
    },
    {
     "ename": "ERROR",
     "evalue": "Error in file(file, ifelse(append, \"a\", \"w\")): cannot open the connection\n",
     "output_type": "error",
     "traceback": [
      "Error in file(file, ifelse(append, \"a\", \"w\")): cannot open the connection\nTraceback:\n",
      "1. stargazer(multi, interaction, nonlinear, controls, title = \"Comparison of Regression Results\", \n .     omit = var_omit, align = TRUE, type = \"text\", keep.stat = c(\"n\", \n .         \"rsq\", \"adj.rsq\", \"ser\", \"f\"), out = \"path/fit.tex\")",
      "2. .stargazer.wrap(..., type = type, title = title, style = style, \n .     summary = summary, out = out, out.header = out.header, column.labels = column.labels, \n .     column.separate = column.separate, covariate.labels = covariate.labels, \n .     dep.var.caption = dep.var.caption, dep.var.labels = dep.var.labels, \n .     dep.var.labels.include = dep.var.labels.include, align = align, \n .     coef = coef, se = se, t = t, p = p, t.auto = t.auto, p.auto = p.auto, \n .     ci = ci, ci.custom = ci.custom, ci.level = ci.level, ci.separator = ci.separator, \n .     add.lines = add.lines, apply.coef = apply.coef, apply.se = apply.se, \n .     apply.t = apply.t, apply.p = apply.p, apply.ci = apply.ci, \n .     colnames = colnames, column.sep.width = column.sep.width, \n .     decimal.mark = decimal.mark, df = df, digit.separate = digit.separate, \n .     digit.separator = digit.separator, digits = digits, digits.extra = digits.extra, \n .     flip = flip, float = float, float.env = float.env, font.size = font.size, \n .     header = header, initial.zero = initial.zero, intercept.bottom = intercept.bottom, \n .     intercept.top = intercept.top, keep = keep, keep.stat = keep.stat, \n .     label = label, model.names = model.names, model.numbers = model.numbers, \n .     multicolumn = multicolumn, no.space = no.space, notes = notes, \n .     notes.align = notes.align, notes.append = notes.append, notes.label = notes.label, \n .     object.names = object.names, omit = omit, omit.labels = omit.labels, \n .     omit.stat = omit.stat, omit.summary.stat = omit.summary.stat, \n .     omit.table.layout = omit.table.layout, omit.yes.no = omit.yes.no, \n .     order = order, ord.intercepts = ord.intercepts, perl = perl, \n .     report = report, rownames = rownames, rq.se = rq.se, selection.equation = selection.equation, \n .     single.row = single.row, star.char = star.char, star.cutoffs = star.cutoffs, \n .     suppress.errors = suppress.errors, table.layout = table.layout, \n .     table.placement = table.placement, zero.component = zero.component, \n .     summary.logical = summary.logical, summary.stat = summary.stat, \n .     nobs = nobs, mean.sd = mean.sd, min.max = min.max, median = median, \n .     iqr = iqr, warn = save.warn.option)",
      "3. .output.file(out, latex.code, text.out, html.out, type, out.header)",
      "4. .output.tex(out[i], latex.code, out.header)",
      "5. cat(paste(content, collapse = \"\\n\"), sep = \"\\n\", file = file.out)",
      "6. file(file, ifelse(append, \"a\", \"w\"))"
     ]
    }
   ],
   "source": [
    "simple <- lm(data = cchs, happy_score ~ BMI)\n",
    "multi <- lm(data = cchs, happy_score ~ BMI + diabetes)\n",
    "interaction <- lm(data = cchs, happy_score ~ BMI + diabetes + BMI*diabetes)\n",
    "nonlinear <- lm(data = cchs, happy_score ~ BMI + I(log(BMI)) + diabetes)\n",
    "controls <- lm(data = cchs, happy_score ~ BMI + I(log(BMI)) + diabetes + age + gender + fitness)\n",
    "\n",
    "var_omit = c(\"(age)\\\\w+\",\"(gender)\\\\w+\")\n",
    "stargazer(multi, interaction, nonlinear,controls, \n",
    "          title=\"Comparison of Regression Results\", omit = var_omit,\n",
    "          align = TRUE, type=\"text\", keep.stat = c(\"n\",\"rsq\", \"adj.rsq\", \"ser\",\"f\"),\n",
    "          out = \"path/fit.tex\")"
   ]
  },
  {
   "cell_type": "code",
   "execution_count": 6,
   "id": "166782dc",
   "metadata": {},
   "outputs": [
    {
     "name": "stderr",
     "output_type": "stream",
     "text": [
      "\u001b[1m\u001b[22m`geom_smooth()` using formula = 'y ~ x'\n"
     ]
    },
    {
     "data": {
      "image/png": "[encoded data removed]",
      "text/plain": [
       "plot without title"
      ]
     },
     "metadata": {
      "image/png": {
       "height": 420,
       "width": 420
      }
     },
     "output_type": "display_data"
    }
   ],
   "source": [
    "df <- data.frame(BMI = cchs$BMI,\n",
    "                 predicted = predict(controls))\n",
    "\n",
    "ggplot(data = cchs, aes(x = BMI, y = happy_score)) +  \n",
    "  geom_point() +\n",
    "  geom_line(data = df, aes(x = BMI, y = predicted), color = \"red\") +\n",
    "  geom_smooth(method = \"lm\", se = FALSE) +\n",
    "  labs(x = \"BMI\", \n",
    "       y = \"Satisfaction with life in general scale 1-10\") +\n",
    "  theme(text = element_text(size = 14))"
   ]
  },
  {
   "cell_type": "code",
   "execution_count": 7,
   "id": "63acf99d",
   "metadata": {},
   "outputs": [
    {
     "name": "stderr",
     "output_type": "stream",
     "text": [
      "Loading required package: zoo\n",
      "\n",
      "\n",
      "Attaching package: ‘zoo’\n",
      "\n",
      "\n",
      "The following objects are masked from ‘package:base’:\n",
      "\n",
      "    as.Date, as.Date.numeric\n",
      "\n",
      "\n"
     ]
    }
   ],
   "source": [
    "library(lmtest)\n",
    "bptest_simple <- bptest(simple)\n",
    "bptest_multi <- bptest(multi)\n",
    "bptest_interaction <- bptest(interaction)\n",
    "bptest_nonlinear <- bptest(nonlinear)\n",
    "bptest_controls <- bptest(controls)"
   ]
  },
  {
   "cell_type": "code",
   "execution_count": 8,
   "id": "b3694e6e",
   "metadata": {},
   "outputs": [
    {
     "name": "stdout",
     "output_type": "stream",
     "text": [
      "\n",
      "\tstudentized Breusch-Pagan test\n",
      "\n",
      "data:  simple\n",
      "BP = 32.694, df = 1, p-value = 1.078e-08\n",
      "\n",
      "\n",
      "\tstudentized Breusch-Pagan test\n",
      "\n",
      "data:  multi\n",
      "BP = 99.527, df = 2, p-value < 2.2e-16\n",
      "\n",
      "\n",
      "\tstudentized Breusch-Pagan test\n",
      "\n",
      "data:  interaction\n",
      "BP = 100.75, df = 3, p-value < 2.2e-16\n",
      "\n",
      "\n",
      "\tstudentized Breusch-Pagan test\n",
      "\n",
      "data:  nonlinear\n",
      "BP = 157.5, df = 3, p-value < 2.2e-16\n",
      "\n",
      "\n",
      "\tstudentized Breusch-Pagan test\n",
      "\n",
      "data:  controls\n",
      "BP = 378.73, df = 19, p-value < 2.2e-16\n",
      "\n"
     ]
    }
   ],
   "source": [
    "print(bptest_simple)\n",
    "print(bptest_multi)\n",
    "print(bptest_interaction)\n",
    "print(bptest_nonlinear)\n",
    "print(bptest_controls)"
   ]
  },
  {
   "cell_type": "code",
   "execution_count": 9,
   "id": "3605e9a2",
   "metadata": {},
   "outputs": [
    {
     "data": {
      "text/html": [
       "<table class=\"dataframe\">\n",
       "<caption>A tibble: 6 × 9</caption>\n",
       "<thead>\n",
       "\t<tr><th scope=col>gender</th><th scope=col>age</th><th scope=col>happy_score</th><th scope=col>mental_health</th><th scope=col>BMI</th><th scope=col>BMI_group</th><th scope=col>diabetes</th><th scope=col>fitness</th><th scope=col>income</th></tr>\n",
       "\t<tr><th scope=col>&lt;fct&gt;</th><th scope=col>&lt;fct&gt;</th><th scope=col>&lt;dbl+lbl&gt;</th><th scope=col>&lt;dbl&gt;</th><th scope=col>&lt;dbl&gt;</th><th scope=col>&lt;dbl&gt;</th><th scope=col>&lt;fct&gt;</th><th scope=col>&lt;chr&gt;</th><th scope=col>&lt;dbl&gt;</th></tr>\n",
       "</thead>\n",
       "<tbody>\n",
       "\t<tr><td>Female</td><td>Age between 45 and 49</td><td>10</td><td>5</td><td>20</td><td>1</td><td>No</td><td>Low activity </td><td>90000</td></tr>\n",
       "\t<tr><td>Female</td><td>Age between 50 and 54</td><td> 6</td><td>3</td><td>23</td><td>1</td><td>No</td><td>No activity  </td><td>50000</td></tr>\n",
       "\t<tr><td>Female</td><td>Age between 70 and 74</td><td>10</td><td>5</td><td>29</td><td>0</td><td>No</td><td>High activity</td><td>30000</td></tr>\n",
       "\t<tr><td>Female</td><td>Age between 60 and 64</td><td> 8</td><td>5</td><td>27</td><td>0</td><td>No</td><td>Low activity </td><td>70000</td></tr>\n",
       "\t<tr><td>Male  </td><td>Age between 35 and 39</td><td> 9</td><td>4</td><td>24</td><td>1</td><td>No</td><td>High activity</td><td>90000</td></tr>\n",
       "\t<tr><td>Male  </td><td>Age between 55 and 59</td><td> 6</td><td>4</td><td>29</td><td>0</td><td>No</td><td>Low activity </td><td>10000</td></tr>\n",
       "</tbody>\n",
       "</table>\n"
      ],
      "text/latex": [
       "A tibble: 6 × 9\n",
       "\\begin{tabular}{lllllllll}\n",
       " gender & age & happy\\_score & mental\\_health & BMI & BMI\\_group & diabetes & fitness & income\\\\\n",
       " <fct> & <fct> & <dbl+lbl> & <dbl> & <dbl> & <dbl> & <fct> & <chr> & <dbl>\\\\\n",
       "\\hline\n",
       "\t Female & Age between 45 and 49 & 10 & 5 & 20 & 1 & No & Low activity  & 90000\\\\\n",
       "\t Female & Age between 50 and 54 &  6 & 3 & 23 & 1 & No & No activity   & 50000\\\\\n",
       "\t Female & Age between 70 and 74 & 10 & 5 & 29 & 0 & No & High activity & 30000\\\\\n",
       "\t Female & Age between 60 and 64 &  8 & 5 & 27 & 0 & No & Low activity  & 70000\\\\\n",
       "\t Male   & Age between 35 and 39 &  9 & 4 & 24 & 1 & No & High activity & 90000\\\\\n",
       "\t Male   & Age between 55 and 59 &  6 & 4 & 29 & 0 & No & Low activity  & 10000\\\\\n",
       "\\end{tabular}\n"
      ],
      "text/markdown": [
       "\n",
       "A tibble: 6 × 9\n",
       "\n",
       "| gender &lt;fct&gt; | age &lt;fct&gt; | happy_score &lt;dbl+lbl&gt; | mental_health &lt;dbl&gt; | BMI &lt;dbl&gt; | BMI_group &lt;dbl&gt; | diabetes &lt;fct&gt; | fitness &lt;chr&gt; | income &lt;dbl&gt; |\n",
       "|---|---|---|---|---|---|---|---|---|\n",
       "| Female | Age between 45 and 49 | 10 | 5 | 20 | 1 | No | Low activity  | 90000 |\n",
       "| Female | Age between 50 and 54 |  6 | 3 | 23 | 1 | No | No activity   | 50000 |\n",
       "| Female | Age between 70 and 74 | 10 | 5 | 29 | 0 | No | High activity | 30000 |\n",
       "| Female | Age between 60 and 64 |  8 | 5 | 27 | 0 | No | Low activity  | 70000 |\n",
       "| Male   | Age between 35 and 39 |  9 | 4 | 24 | 1 | No | High activity | 90000 |\n",
       "| Male   | Age between 55 and 59 |  6 | 4 | 29 | 0 | No | Low activity  | 10000 |\n",
       "\n"
      ],
      "text/plain": [
       "  gender age                   happy_score mental_health BMI BMI_group diabetes\n",
       "1 Female Age between 45 and 49 10          5             20  1         No      \n",
       "2 Female Age between 50 and 54  6          3             23  1         No      \n",
       "3 Female Age between 70 and 74 10          5             29  0         No      \n",
       "4 Female Age between 60 and 64  8          5             27  0         No      \n",
       "5 Male   Age between 35 and 39  9          4             24  1         No      \n",
       "6 Male   Age between 55 and 59  6          4             29  0         No      \n",
       "  fitness       income\n",
       "1 Low activity  90000 \n",
       "2 No activity   50000 \n",
       "3 High activity 30000 \n",
       "4 Low activity  70000 \n",
       "5 High activity 90000 \n",
       "6 Low activity  10000 "
      ]
     },
     "metadata": {},
     "output_type": "display_data"
    }
   ],
   "source": [
    "cchs <- cchs %>% mutate(BMI_group = case_when(\n",
    "            BMI_group == \"Underweight\" ~ 0,\n",
    "            BMI_group == \"Normal weight\" ~ 1,\n",
    "            BMI_group == \"Overweight\" ~ 0,\n",
    "            BMI_group == \"Obese - Class I, II, III\" ~ 0))%>% \n",
    "        mutate(income = case_when(\n",
    "            income == \"No income or less than $20,000\" ~ 10000,\n",
    "            income == \"$20,000 to $39,999\" ~ 30000,\n",
    "            income == \"$40,000 to $59,999\" ~ 50000,\n",
    "            income == \"$60,000 to $79,999\" ~ 70000,\n",
    "            income == \"$80,000 or more\" ~ 90000))\n",
    "head(cchs)"
   ]
  },
  {
   "cell_type": "code",
   "execution_count": 10,
   "id": "594e03d7",
   "metadata": {},
   "outputs": [
    {
     "name": "stdout",
     "output_type": "stream",
     "text": [
      "\n",
      "ALTERNATIVE SATISFACTION MEASUREMENT REGRESSION MODEL\n",
      "=============================================================\n",
      "                                     Dependent variable:     \n",
      "                                 ----------------------------\n",
      "                                  happy_score   mental_health\n",
      "                                      (1)            (2)     \n",
      "-------------------------------------------------------------\n",
      "BMI                                -0.024***      -0.011***  \n",
      "                                    (0.003)        (0.002)   \n",
      "                                                             \n",
      "diabetesNo                          0.395***      0.109***   \n",
      "                                    (0.038)        (0.022)   \n",
      "                                                             \n",
      "BMI_group                           -0.075**      -0.054***  \n",
      "                                    (0.031)        (0.017)   \n",
      "                                                             \n",
      "Constant                            8.329***      4.116***   \n",
      "                                    (0.097)        (0.055)   \n",
      "                                                             \n",
      "-------------------------------------------------------------\n",
      "Observations                         23,795        23,795    \n",
      "R2                                   0.010          0.004    \n",
      "Adjusted R2                          0.010          0.004    \n",
      "Residual Std. Error (df = 23791)     1.694          0.963    \n",
      "F Statistic (df = 3; 23791)        77.394***      29.945***  \n",
      "=============================================================\n",
      "Note:                             *p<0.1; **p<0.05; ***p<0.01\n"
     ]
    }
   ],
   "source": [
    "simple <- lm(data = cchs, happy_score ~ BMI + diabetes + BMI_group)\n",
    "robustness1 <- lm(data = cchs, mental_health ~ BMI + diabetes + BMI_group)\n",
    "robustness2 <- lm(data = cchs, income ~ BMI + diabetes + BMI_group)\n",
    "\n",
    "stargazer(simple, robustness1, title=\"ALTERNATIVE SATISFACTION MEASUREMENT REGRESSION MODEL\",\n",
    "          align = TRUE, type=\"text\", keep.stat = c(\"n\",\"rsq\", \"adj.rsq\", \"ser\",\"f\"))"
   ]
  }
 ],
 "metadata": {
  "kernelspec": {
   "display_name": "R",
   "language": "R",
   "name": "ir"
  },
  "language_info": {
   "codemirror_mode": "r",
   "file_extension": ".r",
   "mimetype": "text/x-r-source",
   "name": "R",
   "pygments_lexer": "r",
   "version": "4.3.0"
  }
 },
 "nbformat": 4,
 "nbformat_minor": 5
}
